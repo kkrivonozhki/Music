{
 "cells": [
  {
   "cell_type": "markdown",
   "metadata": {},
   "source": [
    "<div style=\"border-radius: 15px; border: 3px solid indigo; padding: 15px;\">\n",
    "<b> Комментарий ревьюера</b>\n",
    "    \n",
    "Привет! Меня зовут Светлана Носова, я буду проверять твой проект. Если не против, давай общаться на «ты». Если тебе такой стиль общения не нравится, напиши об этом, будем на «вы».\n",
    "\n",
    "Сразу хочу обратить внимание на цветовую разметку.\n",
    "\n",
    "<div class=\"alert alert-success\" style=\"border-radius: 15px; box-shadow: 4px 4px 4px; border: 1px solid \">\n",
    "\n",
    "Зеленым отмечены отличные решения и идеи, которые можно и нужно использовать в будущем.\n",
    "</div>\n",
    "    \n",
    "<div class=\"alert alert-warning\" style=\"border-radius: 15px; box-shadow: 4px 4px 4px; border: 1px solid \">\n",
    "\n",
    "Желтым отмечено то, что можно или нужно оптимизировать, в зависимости от контекста.</div>    \n",
    "    \n",
    "<div class=\"alert alert-danger\" style=\"border-radius: 15px; box-shadow: 4px 4px 4px; border: 1px solid \">\n",
    "\n",
    "Красным  обозначены пропущенные пункты задания и ошибки, которые обязательно надо будет исправить, чтобы результаты были верные.</div> \n",
    "    \n",
    "**Ответы на мои комментарии или доработки по моим рекомендациям попрошу выделить каким-нибудь цветом, кроме  перечисленных.**\n",
    "Также я попрошу тебя **не менять, не передвигать и не удалять мои комментарии**, чтобы при последующей проверке мне было проще ориентироваться.\n",
    "    \n",
    "Кроме того, комментарии у меня обозначены как заголовки. Это сбивает содержание, но при последующей проверке я могу снять с них заголовок, если тебе так будет удобнее. При этом они удобны, поскольку ты сразу можешь перейти к ним.   \n",
    "        \n",
    "<hr>\n",
    "    \n",
    "**По проекту:** работа выполнена очень хорошо. Функции написаны верно, группировки и сортировки применены правильно. Код чистый, проверять приятно. У меня есть некоторые замечания, я все обозначила в комментариях. Там же я оставила рекомендации по улучшению проекта. Буду ждать работу на повторное ревью.\n",
    "    \n",
    "<hr style=\"border-top: 3px solid purple; \"></hr>\n",
    "Комментарии можешь оставлять с помощью такого кода в Markdown ячейке:\n",
    "    \n",
    "    \n",
    "    <div class=\"alert alert-info\">\n",
    "    <h2> Комментарий студента</h2>\n",
    "\n",
    "    Тут текст.\n",
    "    </div>\n",
    "    \n",
    "    \n",
    "    <font color='red'> Этот код позволяет менять цвет текста. </font>     \n",
    "\n",
    "<font color='red'> Выглядит это так. </font> \n",
    "  \n",
    "   \n",
    "Если не хочешь, чтобы твои комментарии отображались в содержании как заголовки, замени **h2** на **b** или добавь `<a class=\"tocSkip\">` после фразы *Комментарий студента*. \n",
    "\n",
    "\n",
    "\n",
    "О том, как **форматировать текст** в Markdown ячейке или как добавлять ссылки, ты можешь узнать [тут](https://sqlbak.com/blog/jupyter-notebook-markdown-cheatsheet) и [вот тут](https://medium.com/analytics-vidhya/the-ultimate-markdown-guide-for-jupyter-notebook-d5e5abf728fd).\n",
    "</div>"
   ]
  },
  {
   "cell_type": "markdown",
   "metadata": {},
   "source": [
    "<div style=\"border-radius: 15px; border: 3px solid indigo; padding: 15px;\">\n",
    "<b> Комментарий ревьюера 2</b>\n",
    "    \n",
    "Спасибо за корректировки. Оставила новый комментарий с цифрой 2. Работу я могу принять, поскольку вопросов больше нет. Поздравляю с первым решенным проектом и желаю успехов в дальнейшем обучении :)\n",
    "</div>"
   ]
  },
  {
   "cell_type": "markdown",
   "metadata": {
    "id": "E0vqbgi9ay0H"
   },
   "source": [
    "# Яндекс.Музыка"
   ]
  },
  {
   "cell_type": "markdown",
   "metadata": {
    "id": "VUC88oWjTJw2"
   },
   "source": [
    "Сравнение Москвы и Петербурга окружено мифами. Например:\n",
    " * Москва — мегаполис, подчинённый жёсткому ритму рабочей недели;\n",
    " * Петербург — культурная столица, со своими вкусами.\n",
    "\n",
    "На данных Яндекс.Музыки вы сравните поведение пользователей двух столиц.\n",
    "\n",
    "**Цель исследования** — проверьте три гипотезы:\n",
    "1. Активность пользователей зависит от дня недели. Причём в Москве и Петербурге это проявляется по-разному.\n",
    "2. В понедельник утром в Москве преобладают одни жанры, а в Петербурге — другие. Так же и вечером пятницы преобладают разные жанры — в зависимости от города. \n",
    "3. Москва и Петербург предпочитают разные жанры музыки. В Москве чаще слушают поп-музыку, в Петербурге — русский рэп.\n",
    "\n",
    "**Ход исследования**\n",
    "\n",
    "Данные о поведении пользователей вы получите из файла `yandex_music_project.csv`. О качестве данных ничего не известно. Поэтому перед проверкой гипотез понадобится обзор данных. \n",
    "\n",
    "Вы проверите данные на ошибки и оцените их влияние на исследование. Затем, на этапе предобработки вы поищете возможность исправить самые критичные ошибки данных.\n",
    " \n",
    "Таким образом, исследование пройдёт в три этапа:\n",
    " 1. Обзор данных.\n",
    " 2. Предобработка данных.\n",
    " 3. Проверка гипотез.\n",
    "\n"
   ]
  },
  {
   "cell_type": "markdown",
   "metadata": {},
   "source": [
    "<div class=\"alert alert-success\" style=\"border-radius: 15px; box-shadow: 4px 4px 4px; border: 1px solid \">\n",
    "<h2> Комментарий ревьюера</h2>\n",
    "    \n",
    "Наличие вводной части с описанием данных это хороший тон. Правильно делаешь, что не убираешь ее.</div>"
   ]
  },
  {
   "cell_type": "markdown",
   "metadata": {
    "id": "Ml1hmfXC_Zcs"
   },
   "source": [
    "## Обзор данных\n",
    "\n",
    "Составьте первое представление о данных Яндекс.Музыки.\n",
    "\n",
    "\n"
   ]
  },
  {
   "cell_type": "markdown",
   "metadata": {
    "id": "57eAOGIz_Zcs"
   },
   "source": [
    "Основной инструмент аналитика — `pandas`. Импортируйте эту библиотеку."
   ]
  },
  {
   "cell_type": "code",
   "execution_count": 1,
   "metadata": {
    "id": "AXN7PHPN_Zcs"
   },
   "outputs": [],
   "source": [
    "import pandas as pd# импорт библиотеки pandas"
   ]
  },
  {
   "cell_type": "markdown",
   "metadata": {},
   "source": [
    "<div class=\"alert alert-success\" style=\"border-radius: 15px; box-shadow: 4px 4px 4px; border: 1px solid \">\n",
    "<h2> Комментарий ревьюера</h2>\n",
    "    \n",
    "Хорошо, что используешь именно это сокращение для pandas. Оно является общепринятым сокращением, равно как np для numpy. Это удобно, поскольку ни один программист или аналитик не обходится без поиска информации, чтения документации и даже поиска уже готового или частично готового решения какой-то подзадачи. Также это упрощает работу с чужим кодом, что довольно часто происходит при работе в команде. Кроме того, это экономит время. Например, при копипасте.  \n",
    "</div>"
   ]
  },
  {
   "cell_type": "markdown",
   "metadata": {
    "id": "SG23P8tt_Zcs"
   },
   "source": [
    "Прочитайте файл `yandex_music_project.csv` из папки `/datasets` и сохраните его в переменной `df`:"
   ]
  },
  {
   "cell_type": "code",
   "execution_count": 2,
   "metadata": {
    "id": "fFVu7vqh_Zct"
   },
   "outputs": [],
   "source": [
    "df = pd.read_csv('/datasets/yandex_music_project.csv')# чтение файла с данными и сохранение в df"
   ]
  },
  {
   "cell_type": "markdown",
   "metadata": {
    "id": "rDoOMd3uTqnZ"
   },
   "source": [
    "Выведите на экран первые десять строк таблицы:"
   ]
  },
  {
   "cell_type": "code",
   "execution_count": 3,
   "metadata": {
    "id": "oWTVX3gW_Zct"
   },
   "outputs": [
    {
     "data": {
      "text/html": [
       "<div>\n",
       "<style scoped>\n",
       "    .dataframe tbody tr th:only-of-type {\n",
       "        vertical-align: middle;\n",
       "    }\n",
       "\n",
       "    .dataframe tbody tr th {\n",
       "        vertical-align: top;\n",
       "    }\n",
       "\n",
       "    .dataframe thead th {\n",
       "        text-align: right;\n",
       "    }\n",
       "</style>\n",
       "<table border=\"1\" class=\"dataframe\">\n",
       "  <thead>\n",
       "    <tr style=\"text-align: right;\">\n",
       "      <th></th>\n",
       "      <th>userID</th>\n",
       "      <th>Track</th>\n",
       "      <th>artist</th>\n",
       "      <th>genre</th>\n",
       "      <th>City</th>\n",
       "      <th>time</th>\n",
       "      <th>Day</th>\n",
       "    </tr>\n",
       "  </thead>\n",
       "  <tbody>\n",
       "    <tr>\n",
       "      <td>0</td>\n",
       "      <td>FFB692EC</td>\n",
       "      <td>Kamigata To Boots</td>\n",
       "      <td>The Mass Missile</td>\n",
       "      <td>rock</td>\n",
       "      <td>Saint-Petersburg</td>\n",
       "      <td>20:28:33</td>\n",
       "      <td>Wednesday</td>\n",
       "    </tr>\n",
       "    <tr>\n",
       "      <td>1</td>\n",
       "      <td>55204538</td>\n",
       "      <td>Delayed Because of Accident</td>\n",
       "      <td>Andreas Rönnberg</td>\n",
       "      <td>rock</td>\n",
       "      <td>Moscow</td>\n",
       "      <td>14:07:09</td>\n",
       "      <td>Friday</td>\n",
       "    </tr>\n",
       "    <tr>\n",
       "      <td>2</td>\n",
       "      <td>20EC38</td>\n",
       "      <td>Funiculì funiculà</td>\n",
       "      <td>Mario Lanza</td>\n",
       "      <td>pop</td>\n",
       "      <td>Saint-Petersburg</td>\n",
       "      <td>20:58:07</td>\n",
       "      <td>Wednesday</td>\n",
       "    </tr>\n",
       "    <tr>\n",
       "      <td>3</td>\n",
       "      <td>A3DD03C9</td>\n",
       "      <td>Dragons in the Sunset</td>\n",
       "      <td>Fire + Ice</td>\n",
       "      <td>folk</td>\n",
       "      <td>Saint-Petersburg</td>\n",
       "      <td>08:37:09</td>\n",
       "      <td>Monday</td>\n",
       "    </tr>\n",
       "    <tr>\n",
       "      <td>4</td>\n",
       "      <td>E2DC1FAE</td>\n",
       "      <td>Soul People</td>\n",
       "      <td>Space Echo</td>\n",
       "      <td>dance</td>\n",
       "      <td>Moscow</td>\n",
       "      <td>08:34:34</td>\n",
       "      <td>Monday</td>\n",
       "    </tr>\n",
       "  </tbody>\n",
       "</table>\n",
       "</div>"
      ],
      "text/plain": [
       "     userID                        Track            artist  genre  \\\n",
       "0  FFB692EC            Kamigata To Boots  The Mass Missile   rock   \n",
       "1  55204538  Delayed Because of Accident  Andreas Rönnberg   rock   \n",
       "2    20EC38            Funiculì funiculà       Mario Lanza    pop   \n",
       "3  A3DD03C9        Dragons in the Sunset        Fire + Ice   folk   \n",
       "4  E2DC1FAE                  Soul People        Space Echo  dance   \n",
       "\n",
       "             City        time        Day  \n",
       "0  Saint-Petersburg  20:28:33  Wednesday  \n",
       "1            Moscow  14:07:09     Friday  \n",
       "2  Saint-Petersburg  20:58:07  Wednesday  \n",
       "3  Saint-Petersburg  08:37:09     Monday  \n",
       "4            Moscow  08:34:34     Monday  "
      ]
     },
     "execution_count": 3,
     "metadata": {},
     "output_type": "execute_result"
    }
   ],
   "source": [
    "df.head()# получение первых 10 строк таблицы df"
   ]
  },
  {
   "cell_type": "markdown",
   "metadata": {
    "id": "EO73Kwic_Zct"
   },
   "source": [
    "Одной командой получить общую информацию о таблице:"
   ]
  },
  {
   "cell_type": "code",
   "execution_count": 4,
   "metadata": {
    "id": "DSf2kIb-_Zct"
   },
   "outputs": [
    {
     "name": "stdout",
     "output_type": "stream",
     "text": [
      "<class 'pandas.core.frame.DataFrame'>\n",
      "RangeIndex: 65079 entries, 0 to 65078\n",
      "Data columns (total 7 columns):\n",
      "  userID    65079 non-null object\n",
      "Track       63848 non-null object\n",
      "artist      57876 non-null object\n",
      "genre       63881 non-null object\n",
      "  City      65079 non-null object\n",
      "time        65079 non-null object\n",
      "Day         65079 non-null object\n",
      "dtypes: object(7)\n",
      "memory usage: 3.5+ MB\n"
     ]
    }
   ],
   "source": [
    "df.info()# получение общей информации о данных в таблице df"
   ]
  },
  {
   "cell_type": "markdown",
   "metadata": {
    "id": "TaQ2Iwbr_Zct"
   },
   "source": [
    "Итак, в таблице семь столбцов. Тип данных во всех столбцах — `object`.\n",
    "\n",
    "Согласно документации к данным:\n",
    "* `userID` — идентификатор пользователя;\n",
    "* `Track` — название трека;  \n",
    "* `artist` — имя исполнителя;\n",
    "* `genre` — название жанра;\n",
    "* `City` — город пользователя;\n",
    "* `time` — время начала прослушивания;\n",
    "* `Day` — день недели.\n",
    "\n",
    "В названиях колонок видны три нарушения стиля:\n",
    "1. Строчные буквы сочетаются с прописными.\n",
    "2. Встречаются пробелы.\n",
    "3. ***Название не написаны в змеином регистре*** #Найдите ещё одну проблему в названии колонок и опишите её в этом пункте.\n",
    "\n",
    "\n",
    "\n",
    "Количество значений в столбцах различается. Значит, в данных есть пропущенные значения.\n"
   ]
  },
  {
   "cell_type": "markdown",
   "metadata": {},
   "source": [
    "<div class=\"alert alert-success\" style=\"border-radius: 15px; box-shadow: 4px 4px 4px; border: 1px solid \">\n",
    "<h2> Комментарий ревьюера </h2>\n",
    "    \n",
    "Верно, лучше использовать нижние подчеркивания. Это сейчас может показаться ерундой, но, поверь, когда читаешь на гитхабе чей-то код или исходный код какой-нибудь библиотеки, а там огромное число трудночитаемых переменных, устаешь просто моментально. Поэтому есть общепринятый стиль, который упрощает чтение кода. Всякий программист или аналитик вынужден читать чужой код. Либо чтобы подсмотреть реализацию той или иной идеи, либо чтобы разобраться в том, как методы работают в той или иной библиотеке, либо работая в команде. \n",
    "</div>"
   ]
  },
  {
   "cell_type": "markdown",
   "metadata": {
    "id": "MCB6-dXG_Zct"
   },
   "source": [
    "**Выводы**\n",
    "\n",
    "В каждой строке таблицы — данные о прослушанном треке. Часть колонок описывает саму композицию: название, исполнителя и жанр. Остальные данные рассказывают о пользователе: из какого он города, когда он слушал музыку. \n",
    "\n",
    "Предварительно можно утверждать, что, данных достаточно для проверки гипотез. Но встречаются пропуски в данных, а в названиях колонок — расхождения с хорошим стилем.\n",
    "\n",
    "Чтобы двигаться дальше, нужно устранить проблемы в данных."
   ]
  },
  {
   "cell_type": "markdown",
   "metadata": {
    "id": "SjYF6Ub9_Zct"
   },
   "source": [
    "## Предобработка данных\n",
    "Исправьте стиль в заголовках столбцов, исключите пропуски. Затем проверьте данные на дубликаты."
   ]
  },
  {
   "cell_type": "markdown",
   "metadata": {
    "id": "dIaKXr29_Zct"
   },
   "source": [
    "### Стиль заголовков\n",
    "Выведите на экран названия столбцов:"
   ]
  },
  {
   "cell_type": "code",
   "execution_count": 5,
   "metadata": {
    "id": "oKOTdF_Q_Zct"
   },
   "outputs": [
    {
     "data": {
      "text/plain": [
       "Index(['  userID', 'Track', 'artist', 'genre', '  City  ', 'time', 'Day'], dtype='object')"
      ]
     },
     "execution_count": 5,
     "metadata": {},
     "output_type": "execute_result"
    }
   ],
   "source": [
    "df.columns# перечень названий столбцов таблицы df"
   ]
  },
  {
   "cell_type": "markdown",
   "metadata": {
    "id": "FPZA3ki8xe7T"
   },
   "source": []
  },
  {
   "cell_type": "markdown",
   "metadata": {
    "id": "zj5534cv_Zct"
   },
   "source": [
    "Приведите названия в соответствие с хорошим стилем:\n",
    "* несколько слов в названии запишите в «змеином_регистре»,\n",
    "* все символы сделайте строчными,\n",
    "* устраните пробелы.\n",
    "\n",
    "Для этого переименуйте колонки так:\n",
    "* `'  userID'` → `'user_id'`;\n",
    "* `'Track'` → `'track'`;\n",
    "* `'  City  '` → `'city'`;\n",
    "* `'Day'` → `'day'`."
   ]
  },
  {
   "cell_type": "code",
   "execution_count": 6,
   "metadata": {
    "id": "ISlFqs5y_Zct"
   },
   "outputs": [],
   "source": [
    "df = df.rename(columns = {'  userID':'user_id', 'Track':'track', '  City  ':'city', 'Day':'day'})# переименование столбцов"
   ]
  },
  {
   "cell_type": "markdown",
   "metadata": {
    "id": "1dqbh00J_Zct"
   },
   "source": [
    "Проверьте результат. Для этого ещё раз выведите на экран названия столбцов:"
   ]
  },
  {
   "cell_type": "code",
   "execution_count": 7,
   "metadata": {
    "id": "d4NOAmTW_Zct"
   },
   "outputs": [
    {
     "data": {
      "text/plain": [
       "Index(['user_id', 'track', 'artist', 'genre', 'city', 'time', 'day'], dtype='object')"
      ]
     },
     "execution_count": 7,
     "metadata": {},
     "output_type": "execute_result"
    }
   ],
   "source": [
    "df.columns# проверка результатов - перечень названий столбцов"
   ]
  },
  {
   "cell_type": "markdown",
   "metadata": {
    "id": "5ISfbcfY_Zct"
   },
   "source": [
    "### Пропуски значений\n",
    "Сначала посчитайте, сколько в таблице пропущенных значений. Для этого достаточно двух методов `pandas`:"
   ]
  },
  {
   "cell_type": "code",
   "execution_count": 8,
   "metadata": {
    "id": "RskX29qr_Zct"
   },
   "outputs": [
    {
     "data": {
      "text/plain": [
       "user_id       0\n",
       "track      1231\n",
       "artist     7203\n",
       "genre      1198\n",
       "city          0\n",
       "time          0\n",
       "day           0\n",
       "dtype: int64"
      ]
     },
     "execution_count": 8,
     "metadata": {},
     "output_type": "execute_result"
    }
   ],
   "source": [
    "df.isna().sum()# подсчёт пропусков"
   ]
  },
  {
   "cell_type": "markdown",
   "metadata": {
    "id": "qubhgnlO_Zct"
   },
   "source": [
    "Не все пропущенные значения влияют на исследование. Так в `track` и `artist` пропуски не важны для вашей работы. Достаточно заменить их явными обозначениями.\n",
    "\n",
    "Но пропуски в `genre` могут помешать сравнению музыкальных вкусов в Москве и Санкт-Петербурге. На практике было бы правильно установить причину пропусков и восстановить данные. Такой возможности нет в учебном проекте. Придётся:\n",
    "* заполнить и эти пропуски явными обозначениями,\n",
    "* оценить, насколько они повредят расчётам. "
   ]
  },
  {
   "cell_type": "markdown",
   "metadata": {
    "id": "fSv2laPA_Zct"
   },
   "source": [
    "Замените пропущенные значения в столбцах `track`, `artist` и `genre` на строку `'unknown'`. Для этого создайте список `columns_to_replace`, переберите его элементы циклом `for` и для каждого столбца выполните замену пропущенных значений:"
   ]
  },
  {
   "cell_type": "code",
   "execution_count": 9,
   "metadata": {
    "id": "KplB5qWs_Zct"
   },
   "outputs": [],
   "source": [
    "columns_to_replace = ['track', 'artist', 'genre']\n",
    "for column in columns_to_replace:\n",
    "    df[column] = df[column].fillna('unknown')# перебор названий столбцов в цикле и замена пропущенных значений на 'unknown'"
   ]
  },
  {
   "cell_type": "markdown",
   "metadata": {
    "id": "Ilsm-MZo_Zct"
   },
   "source": [
    "Убедитесь, что в таблице не осталось пропусков. Для этого ещё раз посчитайте пропущенные значения."
   ]
  },
  {
   "cell_type": "code",
   "execution_count": 10,
   "metadata": {
    "id": "Tq4nYRX4_Zct"
   },
   "outputs": [
    {
     "data": {
      "text/plain": [
       "user_id    0\n",
       "track      0\n",
       "artist     0\n",
       "genre      0\n",
       "city       0\n",
       "time       0\n",
       "day        0\n",
       "dtype: int64"
      ]
     },
     "execution_count": 10,
     "metadata": {},
     "output_type": "execute_result"
    }
   ],
   "source": [
    "df.isna().sum()# подсчёт пропусков"
   ]
  },
  {
   "cell_type": "markdown",
   "metadata": {
    "id": "BWKRtBJ3_Zct"
   },
   "source": [
    "### Дубликаты\n",
    "Посчитайте явные дубликаты в таблице одной командой:"
   ]
  },
  {
   "cell_type": "code",
   "execution_count": 11,
   "metadata": {
    "id": "36eES_S0_Zct"
   },
   "outputs": [
    {
     "data": {
      "text/plain": [
       "3826"
      ]
     },
     "execution_count": 11,
     "metadata": {},
     "output_type": "execute_result"
    }
   ],
   "source": [
    "df.duplicated().sum()# подсчёт явных дубликатов"
   ]
  },
  {
   "cell_type": "markdown",
   "metadata": {
    "id": "Ot25h6XR_Zct"
   },
   "source": [
    "Вызовите специальный метод `pandas`, чтобы удалить явные дубликаты:"
   ]
  },
  {
   "cell_type": "code",
   "execution_count": 12,
   "metadata": {
    "id": "exFHq6tt_Zct"
   },
   "outputs": [],
   "source": [
    "df = df.drop_duplicates().reset_index(drop=True)# удаление явных дубликатов (с удалением старых индексов и формированием новых)"
   ]
  },
  {
   "cell_type": "markdown",
   "metadata": {
    "id": "Im2YwBEG_Zct"
   },
   "source": [
    "Ещё раз посчитайте явные дубликаты в таблице — убедитесь, что полностью от них избавились:"
   ]
  },
  {
   "cell_type": "code",
   "execution_count": 13,
   "metadata": {
    "id": "-8PuNWQ0_Zct"
   },
   "outputs": [
    {
     "data": {
      "text/plain": [
       "0"
      ]
     },
     "execution_count": 13,
     "metadata": {},
     "output_type": "execute_result"
    }
   ],
   "source": [
    "df.duplicated().sum()# проверка на отсутствие дубликатов"
   ]
  },
  {
   "cell_type": "markdown",
   "metadata": {
    "id": "QlFBsxAr_Zct"
   },
   "source": [
    "Теперь избавьтесь от неявных дубликатов в колонке `genre`. Например, название одного и того же жанра может быть записано немного по-разному. Такие ошибки тоже повлияют на результат исследования."
   ]
  },
  {
   "cell_type": "markdown",
   "metadata": {
    "id": "eSjWwsOh_Zct"
   },
   "source": [
    "Выведите на экран список уникальных названий жанров, отсортированный в алфавитном порядке. Для этого:\n",
    "* извлеките нужный столбец датафрейма, \n",
    "* примените к нему метод сортировки,\n",
    "* для отсортированного столбца вызовите метод, который вернёт уникальные значения из столбца."
   ]
  },
  {
   "cell_type": "code",
   "execution_count": 14,
   "metadata": {
    "id": "JIUcqzZN_Zct"
   },
   "outputs": [
    {
     "data": {
      "text/plain": [
       "array(['acid', 'acoustic', 'action', 'adult', 'africa', 'afrikaans',\n",
       "       'alternative', 'alternativepunk', 'ambient', 'americana',\n",
       "       'animated', 'anime', 'arabesk', 'arabic', 'arena',\n",
       "       'argentinetango', 'art', 'audiobook', 'author', 'avantgarde',\n",
       "       'axé', 'baile', 'balkan', 'beats', 'bigroom', 'black', 'bluegrass',\n",
       "       'blues', 'bollywood', 'bossa', 'brazilian', 'breakbeat', 'breaks',\n",
       "       'broadway', 'cantautori', 'cantopop', 'canzone', 'caribbean',\n",
       "       'caucasian', 'celtic', 'chamber', 'chanson', 'children', 'chill',\n",
       "       'chinese', 'choral', 'christian', 'christmas', 'classical',\n",
       "       'classicmetal', 'club', 'colombian', 'comedy', 'conjazz',\n",
       "       'contemporary', 'country', 'cuban', 'dance', 'dancehall',\n",
       "       'dancepop', 'dark', 'death', 'deep', 'deutschrock', 'deutschspr',\n",
       "       'dirty', 'disco', 'dnb', 'documentary', 'downbeat', 'downtempo',\n",
       "       'drum', 'dub', 'dubstep', 'eastern', 'easy', 'electronic',\n",
       "       'electropop', 'emo', 'entehno', 'epicmetal', 'estrada', 'ethnic',\n",
       "       'eurofolk', 'european', 'experimental', 'extrememetal', 'fado',\n",
       "       'fairytail', 'film', 'fitness', 'flamenco', 'folk', 'folklore',\n",
       "       'folkmetal', 'folkrock', 'folktronica', 'forró', 'frankreich',\n",
       "       'französisch', 'french', 'funk', 'future', 'gangsta', 'garage',\n",
       "       'german', 'ghazal', 'gitarre', 'glitch', 'gospel', 'gothic',\n",
       "       'grime', 'grunge', 'gypsy', 'handsup', \"hard'n'heavy\", 'hardcore',\n",
       "       'hardstyle', 'hardtechno', 'hip', 'hip-hop', 'hiphop',\n",
       "       'historisch', 'holiday', 'hop', 'horror', 'house', 'hymn', 'idm',\n",
       "       'independent', 'indian', 'indie', 'indipop', 'industrial',\n",
       "       'inspirational', 'instrumental', 'international', 'irish', 'jam',\n",
       "       'japanese', 'jazz', 'jewish', 'jpop', 'jungle', 'k-pop',\n",
       "       'karadeniz', 'karaoke', 'kayokyoku', 'korean', 'laiko', 'latin',\n",
       "       'latino', 'leftfield', 'local', 'lounge', 'loungeelectronic',\n",
       "       'lovers', 'malaysian', 'mandopop', 'marschmusik', 'meditative',\n",
       "       'mediterranean', 'melodic', 'metal', 'metalcore', 'mexican',\n",
       "       'middle', 'minimal', 'miscellaneous', 'modern', 'mood', 'mpb',\n",
       "       'muslim', 'native', 'neoklassik', 'neue', 'new', 'newage',\n",
       "       'newwave', 'nu', 'nujazz', 'numetal', 'oceania', 'old', 'opera',\n",
       "       'orchestral', 'other', 'piano', 'podcasts', 'pop', 'popdance',\n",
       "       'popelectronic', 'popeurodance', 'poprussian', 'post',\n",
       "       'posthardcore', 'postrock', 'power', 'progmetal', 'progressive',\n",
       "       'psychedelic', 'punjabi', 'punk', 'quebecois', 'ragga', 'ram',\n",
       "       'rancheras', 'rap', 'rave', 'reggae', 'reggaeton', 'regional',\n",
       "       'relax', 'religious', 'retro', 'rhythm', 'rnb', 'rnr', 'rock',\n",
       "       'rockabilly', 'rockalternative', 'rockindie', 'rockother',\n",
       "       'romance', 'roots', 'ruspop', 'rusrap', 'rusrock', 'russian',\n",
       "       'salsa', 'samba', 'scenic', 'schlager', 'self', 'sertanejo',\n",
       "       'shanson', 'shoegazing', 'showtunes', 'singer', 'ska', 'skarock',\n",
       "       'slow', 'smooth', 'soft', 'soul', 'soulful', 'sound', 'soundtrack',\n",
       "       'southern', 'specialty', 'speech', 'spiritual', 'sport',\n",
       "       'stonerrock', 'surf', 'swing', 'synthpop', 'synthrock',\n",
       "       'sängerportrait', 'tango', 'tanzorchester', 'taraftar', 'tatar',\n",
       "       'tech', 'techno', 'teen', 'thrash', 'top', 'traditional',\n",
       "       'tradjazz', 'trance', 'tribal', 'trip', 'triphop', 'tropical',\n",
       "       'türk', 'türkçe', 'ukrrock', 'unknown', 'urban', 'uzbek',\n",
       "       'variété', 'vi', 'videogame', 'vocal', 'western', 'world',\n",
       "       'worldbeat', 'ïîï', 'электроника'], dtype=object)"
      ]
     },
     "execution_count": 14,
     "metadata": {},
     "output_type": "execute_result"
    }
   ],
   "source": [
    "df['genre'].sort_values().unique()# Просмотр уникальных названий жанров"
   ]
  },
  {
   "cell_type": "markdown",
   "metadata": {
    "id": "qej-Qmuo_Zct"
   },
   "source": [
    "Просмотрите список и найдите неявные дубликаты названия `hiphop`. Это могут быть названия с ошибками или альтернативные названия того же жанра.\n",
    "\n",
    "Вы увидите следующие неявные дубликаты:\n",
    "* *hip*,\n",
    "* *hop*,\n",
    "* *hip-hop*.\n",
    "\n",
    "Чтобы очистить от них таблицу, напишите функцию `replace_wrong_genres()` с двумя параметрами: \n",
    "* `wrong_genres` — список дубликатов,\n",
    "* `correct_genre` — строка с правильным значением.\n",
    "\n",
    "Функция должна исправить колонку `genre` в таблице `df`: заменить каждое значение из списка `wrong_genres` на значение из `correct_genre`."
   ]
  },
  {
   "cell_type": "code",
   "execution_count": 15,
   "metadata": {
    "id": "ErNDkmns_Zct"
   },
   "outputs": [],
   "source": [
    "def replace_wrong_genres(wrong_genres, correct_genre):\n",
    "    for wrong_genre in wrong_genres:\n",
    "        df['genre'] = df['genre'].replace(wrong_genre, correct_genre)\n",
    "duplicate = ['hip', 'hop', 'hip-hop']\n",
    "corr_name = 'hiphop'\n",
    "# Функция для замены неявных дубликатов"
   ]
  },
  {
   "cell_type": "markdown",
   "metadata": {},
   "source": [
    "<div class=\"alert alert-danger\" style=\"border-radius: 15px; box-shadow: 4px 4px 4px; border: 1px solid \">\n",
    "<b> Комментарий ревьюера</b>\n",
    "    \n",
    "Обращаю твое внимание на то, что циклическая переменная **val** в результате нигде не используется. Она ведь нам тут нужна для чего-то?  </div>\n",
    "\n",
    "<div class=\"alert alert-success\" style=\"border-radius: 15px; box-shadow: 4px 4px 4px; border: 1px solid \">\n",
    "<h2> Комментарий ревьюера 2</h2>\n",
    "    \n",
    "Супер. Написали и вызвали функцию, которая верно отработала. \n",
    "\n",
    "Вообще, эти манипуяции можно произвести и без функции. Для этого нам понадобится список и все тот же метод **replace**.   Выглядеть это будет так:\n",
    "    \n",
    "    \n",
    "    wrong_genres = ['hip', 'hop', 'hip-hop']\n",
    "    correct_genre = 'hiphop'  \n",
    "\n",
    "    df['genre'] = df['genre'].replace(wrong_genres, correct_genre)\n",
    "    \n",
    "    \n",
    "Или, что то же самое:\n",
    "    \n",
    "    \n",
    "    df['genre'] = df['genre'].replace(['hip', 'hop', 'hip-hop'], 'hiphop')\n",
    "</div>"
   ]
  },
  {
   "cell_type": "markdown",
   "metadata": {},
   "source": [
    "  <div class=\"alert alert-info\">\n",
    "  <h2> Комментарий студента</h2>\n",
    "\n",
    "   <font color='magenta'> Привет! Поправила </font></div>"
   ]
  },
  {
   "cell_type": "markdown",
   "metadata": {
    "id": "aDoBJxbA_Zct"
   },
   "source": [
    "Вызовите `replace_wrong_genres()` и передайте ей такие аргументы, чтобы она устранила неявные дубликаты: вместо `hip`, `hop` и `hip-hop` в таблице должно быть значение `hiphop`:"
   ]
  },
  {
   "cell_type": "code",
   "execution_count": 16,
   "metadata": {
    "id": "YN5i2hpmSo09"
   },
   "outputs": [],
   "source": [
    "replace_wrong_genres(duplicate, corr_name)# Устранение неявных дубликатов"
   ]
  },
  {
   "cell_type": "markdown",
   "metadata": {
    "id": "zQKF16_RG15m"
   },
   "source": [
    "Проверьте, что заменили неправильные названия:\n",
    "\n",
    "*   hip\n",
    "*   hop\n",
    "*   hip-hop\n",
    "\n",
    "Выведите отсортированный список уникальных значений столбца `genre`:"
   ]
  },
  {
   "cell_type": "code",
   "execution_count": 17,
   "metadata": {
    "id": "wvixALnFG15m"
   },
   "outputs": [
    {
     "data": {
      "text/plain": [
       "array(['acid', 'acoustic', 'action', 'adult', 'africa', 'afrikaans',\n",
       "       'alternative', 'alternativepunk', 'ambient', 'americana',\n",
       "       'animated', 'anime', 'arabesk', 'arabic', 'arena',\n",
       "       'argentinetango', 'art', 'audiobook', 'author', 'avantgarde',\n",
       "       'axé', 'baile', 'balkan', 'beats', 'bigroom', 'black', 'bluegrass',\n",
       "       'blues', 'bollywood', 'bossa', 'brazilian', 'breakbeat', 'breaks',\n",
       "       'broadway', 'cantautori', 'cantopop', 'canzone', 'caribbean',\n",
       "       'caucasian', 'celtic', 'chamber', 'chanson', 'children', 'chill',\n",
       "       'chinese', 'choral', 'christian', 'christmas', 'classical',\n",
       "       'classicmetal', 'club', 'colombian', 'comedy', 'conjazz',\n",
       "       'contemporary', 'country', 'cuban', 'dance', 'dancehall',\n",
       "       'dancepop', 'dark', 'death', 'deep', 'deutschrock', 'deutschspr',\n",
       "       'dirty', 'disco', 'dnb', 'documentary', 'downbeat', 'downtempo',\n",
       "       'drum', 'dub', 'dubstep', 'eastern', 'easy', 'electronic',\n",
       "       'electropop', 'emo', 'entehno', 'epicmetal', 'estrada', 'ethnic',\n",
       "       'eurofolk', 'european', 'experimental', 'extrememetal', 'fado',\n",
       "       'fairytail', 'film', 'fitness', 'flamenco', 'folk', 'folklore',\n",
       "       'folkmetal', 'folkrock', 'folktronica', 'forró', 'frankreich',\n",
       "       'französisch', 'french', 'funk', 'future', 'gangsta', 'garage',\n",
       "       'german', 'ghazal', 'gitarre', 'glitch', 'gospel', 'gothic',\n",
       "       'grime', 'grunge', 'gypsy', 'handsup', \"hard'n'heavy\", 'hardcore',\n",
       "       'hardstyle', 'hardtechno', 'hiphop', 'historisch', 'holiday',\n",
       "       'horror', 'house', 'hymn', 'idm', 'independent', 'indian', 'indie',\n",
       "       'indipop', 'industrial', 'inspirational', 'instrumental',\n",
       "       'international', 'irish', 'jam', 'japanese', 'jazz', 'jewish',\n",
       "       'jpop', 'jungle', 'k-pop', 'karadeniz', 'karaoke', 'kayokyoku',\n",
       "       'korean', 'laiko', 'latin', 'latino', 'leftfield', 'local',\n",
       "       'lounge', 'loungeelectronic', 'lovers', 'malaysian', 'mandopop',\n",
       "       'marschmusik', 'meditative', 'mediterranean', 'melodic', 'metal',\n",
       "       'metalcore', 'mexican', 'middle', 'minimal', 'miscellaneous',\n",
       "       'modern', 'mood', 'mpb', 'muslim', 'native', 'neoklassik', 'neue',\n",
       "       'new', 'newage', 'newwave', 'nu', 'nujazz', 'numetal', 'oceania',\n",
       "       'old', 'opera', 'orchestral', 'other', 'piano', 'podcasts', 'pop',\n",
       "       'popdance', 'popelectronic', 'popeurodance', 'poprussian', 'post',\n",
       "       'posthardcore', 'postrock', 'power', 'progmetal', 'progressive',\n",
       "       'psychedelic', 'punjabi', 'punk', 'quebecois', 'ragga', 'ram',\n",
       "       'rancheras', 'rap', 'rave', 'reggae', 'reggaeton', 'regional',\n",
       "       'relax', 'religious', 'retro', 'rhythm', 'rnb', 'rnr', 'rock',\n",
       "       'rockabilly', 'rockalternative', 'rockindie', 'rockother',\n",
       "       'romance', 'roots', 'ruspop', 'rusrap', 'rusrock', 'russian',\n",
       "       'salsa', 'samba', 'scenic', 'schlager', 'self', 'sertanejo',\n",
       "       'shanson', 'shoegazing', 'showtunes', 'singer', 'ska', 'skarock',\n",
       "       'slow', 'smooth', 'soft', 'soul', 'soulful', 'sound', 'soundtrack',\n",
       "       'southern', 'specialty', 'speech', 'spiritual', 'sport',\n",
       "       'stonerrock', 'surf', 'swing', 'synthpop', 'synthrock',\n",
       "       'sängerportrait', 'tango', 'tanzorchester', 'taraftar', 'tatar',\n",
       "       'tech', 'techno', 'teen', 'thrash', 'top', 'traditional',\n",
       "       'tradjazz', 'trance', 'tribal', 'trip', 'triphop', 'tropical',\n",
       "       'türk', 'türkçe', 'ukrrock', 'unknown', 'urban', 'uzbek',\n",
       "       'variété', 'vi', 'videogame', 'vocal', 'western', 'world',\n",
       "       'worldbeat', 'ïîï', 'электроника'], dtype=object)"
      ]
     },
     "execution_count": 17,
     "metadata": {},
     "output_type": "execute_result"
    }
   ],
   "source": [
    "df['genre'].sort_values().unique()# Проверка на неявные дубликаты"
   ]
  },
  {
   "cell_type": "markdown",
   "metadata": {
    "id": "jz6a9-7HQUDd"
   },
   "source": [
    "**Выводы**\n",
    "\n",
    "Предобработка обнаружила три проблемы в данных:\n",
    "\n",
    "- нарушения в стиле заголовков,\n",
    "- пропущенные значения,\n",
    "- дубликаты — явные и неявные.\n",
    "\n",
    "Вы исправили заголовки, чтобы упростить работу с таблицей. Без дубликатов исследование станет более точным.\n",
    "\n",
    "Пропущенные значения вы заменили на `'unknown'`. Ещё предстоит увидеть, не повредят ли исследованию пропуски в колонке `genre`.\n",
    "\n",
    "Теперь можно перейти к проверке гипотез. "
   ]
  },
  {
   "cell_type": "markdown",
   "metadata": {
    "id": "WttZHXH0SqKk"
   },
   "source": [
    "## Проверка гипотез"
   ]
  },
  {
   "cell_type": "markdown",
   "metadata": {
    "id": "Im936VVi_Zcu"
   },
   "source": [
    "### Сравнение поведения пользователей двух столиц"
   ]
  },
  {
   "cell_type": "markdown",
   "metadata": {
    "id": "nwt_MuaL_Zcu"
   },
   "source": [
    "Первая гипотеза утверждает, что пользователи по-разному слушают музыку в Москве и Санкт-Петербурге. Проверьте это предположение по данным о трёх днях недели — понедельнике, среде и пятнице. Для этого:\n",
    "\n",
    "* Разделите пользователей Москвы и Санкт-Петербурга\n",
    "* Сравните, сколько треков послушала каждая группа пользователей в понедельник, среду и пятницу.\n"
   ]
  },
  {
   "cell_type": "markdown",
   "metadata": {
    "id": "8Dw_YMmT_Zcu"
   },
   "source": [
    "Для тренировки сначала выполните каждый из расчётов по отдельности. \n",
    "\n",
    "Оцените активность пользователей в каждом городе. Сгруппируйте данные по городу и посчитайте прослушивания в каждой группе.\n",
    "\n"
   ]
  },
  {
   "cell_type": "code",
   "execution_count": 18,
   "metadata": {
    "id": "0_Qs96oh_Zcu"
   },
   "outputs": [
    {
     "data": {
      "text/plain": [
       "city\n",
       "Moscow              42741\n",
       "Saint-Petersburg    18512\n",
       "Name: day, dtype: int64"
      ]
     },
     "execution_count": 18,
     "metadata": {},
     "output_type": "execute_result"
    }
   ],
   "source": [
    "df_grouped_by_city = df.groupby('city')['day'].count()\n",
    "df_grouped_by_city# Подсчёт прослушиваний в каждом городе"
   ]
  },
  {
   "cell_type": "markdown",
   "metadata": {
    "id": "dzli3w8o_Zcu"
   },
   "source": [
    "В Москве прослушиваний больше, чем в Петербурге. Из этого не следует, что московские пользователи чаще слушают музыку. Просто самих пользователей в Москве больше.\n",
    "\n",
    "Теперь сгруппируйте данные по дню недели и подсчитайте прослушивания в понедельник, среду и пятницу. Учтите, что в данных есть информация только о прослушиваниях только за эти дни.\n"
   ]
  },
  {
   "cell_type": "code",
   "execution_count": 19,
   "metadata": {
    "id": "uZMKjiJz_Zcu"
   },
   "outputs": [
    {
     "data": {
      "text/plain": [
       "day\n",
       "Friday       21840\n",
       "Monday       21354\n",
       "Wednesday    18059\n",
       "Name: day, dtype: int64"
      ]
     },
     "execution_count": 19,
     "metadata": {},
     "output_type": "execute_result"
    }
   ],
   "source": [
    "df_grouped_by_day = df.groupby('day')['day'].count()\n",
    "df_grouped_by_day# Подсчёт прослушиваний в каждый из трёх дней"
   ]
  },
  {
   "cell_type": "markdown",
   "metadata": {},
   "source": [
    "<div class=\"alert alert-success\" style=\"border-radius: 15px; box-shadow: 4px 4px 4px; border: 1px solid \">\n",
    "<h2> Комментарий ревьюера</h2>\n",
    "    \n",
    "Кстати, если тебе не нравится вывод через Series, то можно вывод сделать как таблицу, добавив еще одни скобки:\n",
    "</div>"
   ]
  },
  {
   "cell_type": "code",
   "execution_count": 20,
   "metadata": {},
   "outputs": [
    {
     "data": {
      "text/html": [
       "<div>\n",
       "<style scoped>\n",
       "    .dataframe tbody tr th:only-of-type {\n",
       "        vertical-align: middle;\n",
       "    }\n",
       "\n",
       "    .dataframe tbody tr th {\n",
       "        vertical-align: top;\n",
       "    }\n",
       "\n",
       "    .dataframe thead th {\n",
       "        text-align: right;\n",
       "    }\n",
       "</style>\n",
       "<table border=\"1\" class=\"dataframe\">\n",
       "  <thead>\n",
       "    <tr style=\"text-align: right;\">\n",
       "      <th></th>\n",
       "      <th>user_id</th>\n",
       "    </tr>\n",
       "    <tr>\n",
       "      <th>day</th>\n",
       "      <th></th>\n",
       "    </tr>\n",
       "  </thead>\n",
       "  <tbody>\n",
       "    <tr>\n",
       "      <td>Friday</td>\n",
       "      <td>21840</td>\n",
       "    </tr>\n",
       "    <tr>\n",
       "      <td>Monday</td>\n",
       "      <td>21354</td>\n",
       "    </tr>\n",
       "    <tr>\n",
       "      <td>Wednesday</td>\n",
       "      <td>18059</td>\n",
       "    </tr>\n",
       "  </tbody>\n",
       "</table>\n",
       "</div>"
      ],
      "text/plain": [
       "           user_id\n",
       "day               \n",
       "Friday       21840\n",
       "Monday       21354\n",
       "Wednesday    18059"
      ]
     },
     "execution_count": 20,
     "metadata": {},
     "output_type": "execute_result"
    }
   ],
   "source": [
    "# КОД РЕВЬЮЕРА\n",
    "\n",
    "df.groupby('day')[['user_id']].count()"
   ]
  },
  {
   "cell_type": "markdown",
   "metadata": {
    "id": "cC2tNrlL_Zcu"
   },
   "source": [
    "В среднем пользователи из двух городов менее активны по средам. Но картина может измениться, если рассмотреть каждый город в отдельности."
   ]
  },
  {
   "cell_type": "markdown",
   "metadata": {
    "id": "POzs8bGa_Zcu"
   },
   "source": [
    "Вы видели, как работает группировка по городу и по дням недели. Теперь напишите функцию, которая объединит два эти расчёта.\n",
    "\n",
    "Создайте функцию `number_tracks()`, которая посчитает прослушивания для заданного дня и города. Ей понадобятся два параметра:\n",
    "* день недели,\n",
    "* название города.\n",
    "\n",
    "В функции сохраните в переменную строки исходной таблицы, у которых значение:\n",
    "  * в колонке `day` равно параметру `day`,\n",
    "  * в колонке `city` равно параметру `city`.\n",
    "\n",
    "Для этого примените последовательную фильтрацию с логической индексацией.\n",
    "\n",
    "Затем посчитайте значения в столбце `user_id` получившейся таблицы. Результат сохраните в новую переменную. Верните эту переменную из функции."
   ]
  },
  {
   "cell_type": "code",
   "execution_count": 21,
   "metadata": {
    "id": "Nz3GdQB1_Zcu"
   },
   "outputs": [],
   "source": [
    "def number_tracks(day, city):\n",
    "    track_list = df[df['day'] == day]\n",
    "    track_list = track_list[track_list['city'] == city]\n",
    "    track_list_count = track_list['user_id'].count()\n",
    "    return track_list_count\n",
    "\n",
    "# <создание функции number_tracks()>\n",
    "# Объявляется функция с двумя параметрами: day, city.\n",
    "# В переменной track_list сохраняются те строки таблицы df, для которых \n",
    "# значение в столбце 'day' равно параметру day и одновременно значение\n",
    "# в столбце 'city' равно параметру city (используйте последовательную фильтрацию\n",
    "# с помощью логической индексации).\n",
    "# В переменной track_list_count сохраняется число значений столбца 'user_id',\n",
    "# рассчитанное методом count() для таблицы track_list.\n",
    "# Функция возвращает число - значение track_list_count.\n",
    "\n",
    "# Функция для подсчёта прослушиваний для конкретного города и дня.\n",
    "# С помощью последовательной фильтрации с логической индексацией она \n",
    "# сначала получит из исходной таблицы строки с нужным днём,\n",
    "# затем из результата отфильтрует строки с нужным городом,\n",
    "# методом count() посчитает количество значений в колонке user_id. \n",
    "# Это количество функция вернёт в качестве результата"
   ]
  },
  {
   "cell_type": "markdown",
   "metadata": {
    "id": "ytf7xFrFJQ2r"
   },
   "source": [
    "Вызовите `number_tracks()` шесть раз, меняя значение параметров — так, чтобы получить данные для каждого города в каждый из трёх дней."
   ]
  },
  {
   "cell_type": "code",
   "execution_count": 22,
   "metadata": {
    "id": "rJcRATNQ_Zcu"
   },
   "outputs": [
    {
     "data": {
      "text/plain": [
       "15740"
      ]
     },
     "execution_count": 22,
     "metadata": {},
     "output_type": "execute_result"
    }
   ],
   "source": [
    "day_monday = 'Monday'\n",
    "day_wednesday = 'Wednesday'\n",
    "day_friday = 'Friday'\n",
    "city_moscow = 'Moscow'\n",
    "city_spb = 'Saint-Petersburg'\n",
    "number_tracks(day_monday, city_moscow)# количество прослушиваний в Москве по понедельникам"
   ]
  },
  {
   "cell_type": "code",
   "execution_count": 23,
   "metadata": {
    "id": "hq_ncZ5T_Zcu"
   },
   "outputs": [
    {
     "data": {
      "text/plain": [
       "5614"
      ]
     },
     "execution_count": 23,
     "metadata": {},
     "output_type": "execute_result"
    }
   ],
   "source": [
    "number_tracks(day_monday, city_spb)# количество прослушиваний в Санкт-Петербурге по понедельникам"
   ]
  },
  {
   "cell_type": "code",
   "execution_count": 24,
   "metadata": {
    "id": "_NTy2VPU_Zcu"
   },
   "outputs": [
    {
     "data": {
      "text/plain": [
       "11056"
      ]
     },
     "execution_count": 24,
     "metadata": {},
     "output_type": "execute_result"
    }
   ],
   "source": [
    "number_tracks(day_wednesday, city_moscow)# количество прослушиваний в Москве по средам"
   ]
  },
  {
   "cell_type": "code",
   "execution_count": 25,
   "metadata": {
    "id": "j2y3TAwo_Zcu"
   },
   "outputs": [
    {
     "data": {
      "text/plain": [
       "7003"
      ]
     },
     "execution_count": 25,
     "metadata": {},
     "output_type": "execute_result"
    }
   ],
   "source": [
    "number_tracks(day_wednesday, city_spb)# количество прослушиваний в Санкт-Петербурге по средам"
   ]
  },
  {
   "cell_type": "code",
   "execution_count": 26,
   "metadata": {
    "id": "vYDw5u_K_Zcu"
   },
   "outputs": [
    {
     "data": {
      "text/plain": [
       "15945"
      ]
     },
     "execution_count": 26,
     "metadata": {},
     "output_type": "execute_result"
    }
   ],
   "source": [
    "number_tracks(day_friday, city_moscow)# количество прослушиваний в Москве по пятницам"
   ]
  },
  {
   "cell_type": "code",
   "execution_count": 27,
   "metadata": {
    "id": "8_yzFtW3_Zcu"
   },
   "outputs": [
    {
     "data": {
      "text/plain": [
       "5895"
      ]
     },
     "execution_count": 27,
     "metadata": {},
     "output_type": "execute_result"
    }
   ],
   "source": [
    "number_tracks(day_friday, city_spb)# количество прослушиваний в Санкт-Петербурге по пятницам"
   ]
  },
  {
   "cell_type": "markdown",
   "metadata": {
    "id": "7QXffbO-_Zcu"
   },
   "source": [
    "Создайте c помощью конструктора `pd.DataFrame` таблицу, где\n",
    "* названия колонок — `['city', 'monday', 'wednesday', 'friday']`;\n",
    "* данные — результаты, которые вы получили с помощью `number_tracks`."
   ]
  },
  {
   "cell_type": "code",
   "execution_count": 28,
   "metadata": {
    "id": "APAcLpOr_Zcu"
   },
   "outputs": [
    {
     "data": {
      "text/html": [
       "<div>\n",
       "<style scoped>\n",
       "    .dataframe tbody tr th:only-of-type {\n",
       "        vertical-align: middle;\n",
       "    }\n",
       "\n",
       "    .dataframe tbody tr th {\n",
       "        vertical-align: top;\n",
       "    }\n",
       "\n",
       "    .dataframe thead th {\n",
       "        text-align: right;\n",
       "    }\n",
       "</style>\n",
       "<table border=\"1\" class=\"dataframe\">\n",
       "  <thead>\n",
       "    <tr style=\"text-align: right;\">\n",
       "      <th></th>\n",
       "      <th>city</th>\n",
       "      <th>monday</th>\n",
       "      <th>wednesday</th>\n",
       "      <th>friday</th>\n",
       "    </tr>\n",
       "  </thead>\n",
       "  <tbody>\n",
       "    <tr>\n",
       "      <td>0</td>\n",
       "      <td>Moscow</td>\n",
       "      <td>15740</td>\n",
       "      <td>11056</td>\n",
       "      <td>15945</td>\n",
       "    </tr>\n",
       "    <tr>\n",
       "      <td>1</td>\n",
       "      <td>Saint-Petersburg</td>\n",
       "      <td>5614</td>\n",
       "      <td>7003</td>\n",
       "      <td>5895</td>\n",
       "    </tr>\n",
       "  </tbody>\n",
       "</table>\n",
       "</div>"
      ],
      "text/plain": [
       "               city  monday  wednesday  friday\n",
       "0            Moscow   15740      11056   15945\n",
       "1  Saint-Petersburg    5614       7003    5895"
      ]
     },
     "execution_count": 28,
     "metadata": {},
     "output_type": "execute_result"
    }
   ],
   "source": [
    "col = ['city', 'monday', 'wednesday', 'friday']\n",
    "data = [\n",
    "    ['Moscow', 15740, 11056, 15945],\n",
    "    ['Saint-Petersburg', 5614, 7003, 5895]\n",
    "]\n",
    "track_by_day = pd.DataFrame(data=data , columns=col)\n",
    "track_by_day# Таблица с результатами\n",
    "#какой код можно написать, чтобы не заполнять таблицу руками, а заполнить из вычесленных значений?"
   ]
  },
  {
   "cell_type": "markdown",
   "metadata": {},
   "source": [
    "<div class=\"alert alert-success\" style=\"border-radius: 15px; box-shadow: 4px 4px 4px; border: 1px solid \">\n",
    "<h2> Комментарий ревьюера</h2>\n",
    "    \n",
    "Все значения верные.\n",
    "</div>"
   ]
  },
  {
   "cell_type": "markdown",
   "metadata": {
    "id": "-EgPIHYu_Zcu"
   },
   "source": [
    "**Выводы**\n",
    "\n",
    "Данные показывают разницу поведения пользователей:\n",
    "\n",
    "- В Москве пик прослушиваний приходится на понедельник и пятницу, а в среду заметен спад.\n",
    "- В Петербурге, наоборот, больше слушают музыку по средам. Активность в понедельник и пятницу здесь почти в равной мере уступает среде.\n",
    "\n",
    "Значит, данные говорят в пользу первой гипотезы."
   ]
  },
  {
   "cell_type": "markdown",
   "metadata": {
    "id": "atZAxtq4_Zcu"
   },
   "source": [
    "### Музыка в начале и в конце недели"
   ]
  },
  {
   "cell_type": "markdown",
   "metadata": {
    "id": "eXrQqXFH_Zcu"
   },
   "source": [
    "Согласно второй гипотезе, утром в понедельник в Москве преобладают одни жанры, а в Петербурге — другие. Так же и вечером пятницы преобладают разные жанры — в зависимости от города."
   ]
  },
  {
   "cell_type": "markdown",
   "metadata": {
    "id": "S8UcW6Hw_Zcu"
   },
   "source": [
    "Сохраните таблицы с данными в две переменные:\n",
    "* по Москве — в `moscow_general`;\n",
    "* по Санкт-Петербургу — в `spb_general`."
   ]
  },
  {
   "cell_type": "code",
   "execution_count": 29,
   "metadata": {
    "id": "qeaFfM_P_Zcu"
   },
   "outputs": [
    {
     "data": {
      "text/html": [
       "<div>\n",
       "<style scoped>\n",
       "    .dataframe tbody tr th:only-of-type {\n",
       "        vertical-align: middle;\n",
       "    }\n",
       "\n",
       "    .dataframe tbody tr th {\n",
       "        vertical-align: top;\n",
       "    }\n",
       "\n",
       "    .dataframe thead th {\n",
       "        text-align: right;\n",
       "    }\n",
       "</style>\n",
       "<table border=\"1\" class=\"dataframe\">\n",
       "  <thead>\n",
       "    <tr style=\"text-align: right;\">\n",
       "      <th></th>\n",
       "      <th>user_id</th>\n",
       "      <th>track</th>\n",
       "      <th>artist</th>\n",
       "      <th>genre</th>\n",
       "      <th>city</th>\n",
       "      <th>time</th>\n",
       "      <th>day</th>\n",
       "    </tr>\n",
       "  </thead>\n",
       "  <tbody>\n",
       "    <tr>\n",
       "      <td>1</td>\n",
       "      <td>55204538</td>\n",
       "      <td>Delayed Because of Accident</td>\n",
       "      <td>Andreas Rönnberg</td>\n",
       "      <td>rock</td>\n",
       "      <td>Moscow</td>\n",
       "      <td>14:07:09</td>\n",
       "      <td>Friday</td>\n",
       "    </tr>\n",
       "    <tr>\n",
       "      <td>4</td>\n",
       "      <td>E2DC1FAE</td>\n",
       "      <td>Soul People</td>\n",
       "      <td>Space Echo</td>\n",
       "      <td>dance</td>\n",
       "      <td>Moscow</td>\n",
       "      <td>08:34:34</td>\n",
       "      <td>Monday</td>\n",
       "    </tr>\n",
       "    <tr>\n",
       "      <td>6</td>\n",
       "      <td>4CB90AA5</td>\n",
       "      <td>True</td>\n",
       "      <td>Roman Messer</td>\n",
       "      <td>dance</td>\n",
       "      <td>Moscow</td>\n",
       "      <td>13:00:07</td>\n",
       "      <td>Wednesday</td>\n",
       "    </tr>\n",
       "    <tr>\n",
       "      <td>7</td>\n",
       "      <td>F03E1C1F</td>\n",
       "      <td>Feeling This Way</td>\n",
       "      <td>Polina Griffith</td>\n",
       "      <td>dance</td>\n",
       "      <td>Moscow</td>\n",
       "      <td>20:47:49</td>\n",
       "      <td>Wednesday</td>\n",
       "    </tr>\n",
       "    <tr>\n",
       "      <td>8</td>\n",
       "      <td>8FA1D3BE</td>\n",
       "      <td>И вновь продолжается бой</td>\n",
       "      <td>unknown</td>\n",
       "      <td>ruspop</td>\n",
       "      <td>Moscow</td>\n",
       "      <td>09:17:40</td>\n",
       "      <td>Friday</td>\n",
       "    </tr>\n",
       "    <tr>\n",
       "      <td>...</td>\n",
       "      <td>...</td>\n",
       "      <td>...</td>\n",
       "      <td>...</td>\n",
       "      <td>...</td>\n",
       "      <td>...</td>\n",
       "      <td>...</td>\n",
       "      <td>...</td>\n",
       "    </tr>\n",
       "    <tr>\n",
       "      <td>61247</td>\n",
       "      <td>83A474E7</td>\n",
       "      <td>I Worship Only What You Bleed</td>\n",
       "      <td>The Black Dahlia Murder</td>\n",
       "      <td>extrememetal</td>\n",
       "      <td>Moscow</td>\n",
       "      <td>21:07:12</td>\n",
       "      <td>Monday</td>\n",
       "    </tr>\n",
       "    <tr>\n",
       "      <td>61248</td>\n",
       "      <td>729CBB09</td>\n",
       "      <td>My Name</td>\n",
       "      <td>McLean</td>\n",
       "      <td>rnb</td>\n",
       "      <td>Moscow</td>\n",
       "      <td>13:32:28</td>\n",
       "      <td>Wednesday</td>\n",
       "    </tr>\n",
       "    <tr>\n",
       "      <td>61250</td>\n",
       "      <td>C5E3A0D5</td>\n",
       "      <td>Jalopiina</td>\n",
       "      <td>unknown</td>\n",
       "      <td>industrial</td>\n",
       "      <td>Moscow</td>\n",
       "      <td>20:09:26</td>\n",
       "      <td>Friday</td>\n",
       "    </tr>\n",
       "    <tr>\n",
       "      <td>61251</td>\n",
       "      <td>321D0506</td>\n",
       "      <td>Freight Train</td>\n",
       "      <td>Chas McDevitt</td>\n",
       "      <td>rock</td>\n",
       "      <td>Moscow</td>\n",
       "      <td>21:43:59</td>\n",
       "      <td>Friday</td>\n",
       "    </tr>\n",
       "    <tr>\n",
       "      <td>61252</td>\n",
       "      <td>3A64EF84</td>\n",
       "      <td>Tell Me Sweet Little Lies</td>\n",
       "      <td>Monica Lopez</td>\n",
       "      <td>country</td>\n",
       "      <td>Moscow</td>\n",
       "      <td>21:59:46</td>\n",
       "      <td>Friday</td>\n",
       "    </tr>\n",
       "  </tbody>\n",
       "</table>\n",
       "<p>42741 rows × 7 columns</p>\n",
       "</div>"
      ],
      "text/plain": [
       "        user_id                          track                   artist  \\\n",
       "1      55204538    Delayed Because of Accident         Andreas Rönnberg   \n",
       "4      E2DC1FAE                    Soul People               Space Echo   \n",
       "6      4CB90AA5                           True             Roman Messer   \n",
       "7      F03E1C1F               Feeling This Way          Polina Griffith   \n",
       "8      8FA1D3BE       И вновь продолжается бой                  unknown   \n",
       "...         ...                            ...                      ...   \n",
       "61247  83A474E7  I Worship Only What You Bleed  The Black Dahlia Murder   \n",
       "61248  729CBB09                        My Name                   McLean   \n",
       "61250  C5E3A0D5                      Jalopiina                  unknown   \n",
       "61251  321D0506                  Freight Train            Chas McDevitt   \n",
       "61252  3A64EF84      Tell Me Sweet Little Lies             Monica Lopez   \n",
       "\n",
       "              genre    city      time        day  \n",
       "1              rock  Moscow  14:07:09     Friday  \n",
       "4             dance  Moscow  08:34:34     Monday  \n",
       "6             dance  Moscow  13:00:07  Wednesday  \n",
       "7             dance  Moscow  20:47:49  Wednesday  \n",
       "8            ruspop  Moscow  09:17:40     Friday  \n",
       "...             ...     ...       ...        ...  \n",
       "61247  extrememetal  Moscow  21:07:12     Monday  \n",
       "61248           rnb  Moscow  13:32:28  Wednesday  \n",
       "61250    industrial  Moscow  20:09:26     Friday  \n",
       "61251          rock  Moscow  21:43:59     Friday  \n",
       "61252       country  Moscow  21:59:46     Friday  \n",
       "\n",
       "[42741 rows x 7 columns]"
      ]
     },
     "execution_count": 29,
     "metadata": {},
     "output_type": "execute_result"
    }
   ],
   "source": [
    "moscow_general = df[df['city'] == 'Moscow']# получение таблицы moscow_general из тех строк таблицы df, \n",
    "moscow_general# для которых значение в столбце 'city' равно 'Moscow'\n"
   ]
  },
  {
   "cell_type": "code",
   "execution_count": 30,
   "metadata": {
    "id": "ORaVRKto_Zcu"
   },
   "outputs": [
    {
     "data": {
      "text/html": [
       "<div>\n",
       "<style scoped>\n",
       "    .dataframe tbody tr th:only-of-type {\n",
       "        vertical-align: middle;\n",
       "    }\n",
       "\n",
       "    .dataframe tbody tr th {\n",
       "        vertical-align: top;\n",
       "    }\n",
       "\n",
       "    .dataframe thead th {\n",
       "        text-align: right;\n",
       "    }\n",
       "</style>\n",
       "<table border=\"1\" class=\"dataframe\">\n",
       "  <thead>\n",
       "    <tr style=\"text-align: right;\">\n",
       "      <th></th>\n",
       "      <th>user_id</th>\n",
       "      <th>track</th>\n",
       "      <th>artist</th>\n",
       "      <th>genre</th>\n",
       "      <th>city</th>\n",
       "      <th>time</th>\n",
       "      <th>day</th>\n",
       "    </tr>\n",
       "  </thead>\n",
       "  <tbody>\n",
       "    <tr>\n",
       "      <td>0</td>\n",
       "      <td>FFB692EC</td>\n",
       "      <td>Kamigata To Boots</td>\n",
       "      <td>The Mass Missile</td>\n",
       "      <td>rock</td>\n",
       "      <td>Saint-Petersburg</td>\n",
       "      <td>20:28:33</td>\n",
       "      <td>Wednesday</td>\n",
       "    </tr>\n",
       "    <tr>\n",
       "      <td>2</td>\n",
       "      <td>20EC38</td>\n",
       "      <td>Funiculì funiculà</td>\n",
       "      <td>Mario Lanza</td>\n",
       "      <td>pop</td>\n",
       "      <td>Saint-Petersburg</td>\n",
       "      <td>20:58:07</td>\n",
       "      <td>Wednesday</td>\n",
       "    </tr>\n",
       "    <tr>\n",
       "      <td>3</td>\n",
       "      <td>A3DD03C9</td>\n",
       "      <td>Dragons in the Sunset</td>\n",
       "      <td>Fire + Ice</td>\n",
       "      <td>folk</td>\n",
       "      <td>Saint-Petersburg</td>\n",
       "      <td>08:37:09</td>\n",
       "      <td>Monday</td>\n",
       "    </tr>\n",
       "    <tr>\n",
       "      <td>5</td>\n",
       "      <td>842029A1</td>\n",
       "      <td>Преданная</td>\n",
       "      <td>IMPERVTOR</td>\n",
       "      <td>rusrap</td>\n",
       "      <td>Saint-Petersburg</td>\n",
       "      <td>13:09:41</td>\n",
       "      <td>Friday</td>\n",
       "    </tr>\n",
       "    <tr>\n",
       "      <td>9</td>\n",
       "      <td>E772D5C0</td>\n",
       "      <td>Pessimist</td>\n",
       "      <td>unknown</td>\n",
       "      <td>dance</td>\n",
       "      <td>Saint-Petersburg</td>\n",
       "      <td>21:20:49</td>\n",
       "      <td>Wednesday</td>\n",
       "    </tr>\n",
       "    <tr>\n",
       "      <td>...</td>\n",
       "      <td>...</td>\n",
       "      <td>...</td>\n",
       "      <td>...</td>\n",
       "      <td>...</td>\n",
       "      <td>...</td>\n",
       "      <td>...</td>\n",
       "      <td>...</td>\n",
       "    </tr>\n",
       "    <tr>\n",
       "      <td>61239</td>\n",
       "      <td>D94F810B</td>\n",
       "      <td>Theme from the Walking Dead</td>\n",
       "      <td>Proyecto Halloween</td>\n",
       "      <td>film</td>\n",
       "      <td>Saint-Petersburg</td>\n",
       "      <td>21:14:40</td>\n",
       "      <td>Monday</td>\n",
       "    </tr>\n",
       "    <tr>\n",
       "      <td>61240</td>\n",
       "      <td>BC8EC5CF</td>\n",
       "      <td>Red Lips: Gta (Rover Rework)</td>\n",
       "      <td>Rover</td>\n",
       "      <td>electronic</td>\n",
       "      <td>Saint-Petersburg</td>\n",
       "      <td>21:06:50</td>\n",
       "      <td>Monday</td>\n",
       "    </tr>\n",
       "    <tr>\n",
       "      <td>61241</td>\n",
       "      <td>29E04611</td>\n",
       "      <td>Bre Petrunko</td>\n",
       "      <td>Perunika Trio</td>\n",
       "      <td>world</td>\n",
       "      <td>Saint-Petersburg</td>\n",
       "      <td>13:56:00</td>\n",
       "      <td>Monday</td>\n",
       "    </tr>\n",
       "    <tr>\n",
       "      <td>61242</td>\n",
       "      <td>1B91C621</td>\n",
       "      <td>(Hello) Cloud Mountain</td>\n",
       "      <td>sleepmakeswaves</td>\n",
       "      <td>postrock</td>\n",
       "      <td>Saint-Petersburg</td>\n",
       "      <td>09:22:13</td>\n",
       "      <td>Monday</td>\n",
       "    </tr>\n",
       "    <tr>\n",
       "      <td>61249</td>\n",
       "      <td>D08D4A55</td>\n",
       "      <td>Maybe One Day (feat. Black Spade)</td>\n",
       "      <td>Blu &amp; Exile</td>\n",
       "      <td>hiphop</td>\n",
       "      <td>Saint-Petersburg</td>\n",
       "      <td>10:00:00</td>\n",
       "      <td>Monday</td>\n",
       "    </tr>\n",
       "  </tbody>\n",
       "</table>\n",
       "<p>18512 rows × 7 columns</p>\n",
       "</div>"
      ],
      "text/plain": [
       "        user_id                              track              artist  \\\n",
       "0      FFB692EC                  Kamigata To Boots    The Mass Missile   \n",
       "2        20EC38                  Funiculì funiculà         Mario Lanza   \n",
       "3      A3DD03C9              Dragons in the Sunset          Fire + Ice   \n",
       "5      842029A1                          Преданная           IMPERVTOR   \n",
       "9      E772D5C0                          Pessimist             unknown   \n",
       "...         ...                                ...                 ...   \n",
       "61239  D94F810B        Theme from the Walking Dead  Proyecto Halloween   \n",
       "61240  BC8EC5CF       Red Lips: Gta (Rover Rework)               Rover   \n",
       "61241  29E04611                       Bre Petrunko       Perunika Trio   \n",
       "61242  1B91C621             (Hello) Cloud Mountain     sleepmakeswaves   \n",
       "61249  D08D4A55  Maybe One Day (feat. Black Spade)         Blu & Exile   \n",
       "\n",
       "            genre              city      time        day  \n",
       "0            rock  Saint-Petersburg  20:28:33  Wednesday  \n",
       "2             pop  Saint-Petersburg  20:58:07  Wednesday  \n",
       "3            folk  Saint-Petersburg  08:37:09     Monday  \n",
       "5          rusrap  Saint-Petersburg  13:09:41     Friday  \n",
       "9           dance  Saint-Petersburg  21:20:49  Wednesday  \n",
       "...           ...               ...       ...        ...  \n",
       "61239        film  Saint-Petersburg  21:14:40     Monday  \n",
       "61240  electronic  Saint-Petersburg  21:06:50     Monday  \n",
       "61241       world  Saint-Petersburg  13:56:00     Monday  \n",
       "61242    postrock  Saint-Petersburg  09:22:13     Monday  \n",
       "61249      hiphop  Saint-Petersburg  10:00:00     Monday  \n",
       "\n",
       "[18512 rows x 7 columns]"
      ]
     },
     "execution_count": 30,
     "metadata": {},
     "output_type": "execute_result"
    }
   ],
   "source": [
    "spb_general = df[df['city'] == 'Saint-Petersburg']# получение таблицы spb_general из тех строк таблицы df,\n",
    "spb_general# для которых значение в столбце 'city' равно 'Saint-Petersburg'\n"
   ]
  },
  {
   "cell_type": "markdown",
   "metadata": {
    "id": "MEJV-CX2_Zcu"
   },
   "source": [
    "Создайте функцию `genre_weekday()` с четырьмя параметрами:\n",
    "* таблица (датафрейм) с данными,\n",
    "* день недели,\n",
    "* начальная временная метка в формате 'hh:mm', \n",
    "* последняя временная метка в формате 'hh:mm'.\n",
    "\n",
    "Функция должна вернуть информацию о топ-10 жанров тех треков, которые прослушивали в указанный день, в промежутке между двумя отметками времени."
   ]
  },
  {
   "cell_type": "code",
   "execution_count": 31,
   "metadata": {
    "id": "laJT9BYl_Zcu"
   },
   "outputs": [],
   "source": [
    "def genre_weekday(table, day, time1, time2):\n",
    "    genre_df = table[table['day'] == day]\n",
    "    genre_df = genre_df[genre_df['time'] > time1]\n",
    "    genre_df = genre_df[genre_df['time'] < time2]\n",
    "    genre_df_count = genre_df.groupby('genre')['city'].count()\n",
    "    genre_df_sorted = genre_df_count.sort_values(ascending=False).head(10)\n",
    "    return genre_df_sorted\n",
    "# Объявление функции genre_weekday() с параметрами table, day, time1, time2,\n",
    "# которая возвращает информацию о самых популярных жанрах в указанный день в\n",
    "# заданное время:\n",
    "# 1) в переменную genre_df сохраняются те строки переданного датафрейма table, для\n",
    "#    которых одновременно:\n",
    "#    - значение в столбце day равно значению аргумента day\n",
    "#    - значение в столбце time больше значения аргумента time1\n",
    "#    - значение в столбце time меньше значения аргумента time2\n",
    "#    Используйте последовательную фильтрацию с помощью логической индексации.\n",
    "# 2) сгруппировать датафрейм genre_df по столбцу genre, взять один из его\n",
    "#    столбцов и посчитать методом count() количество записей для каждого из\n",
    "#    присутствующих жанров, получившийся Series записать в переменную\n",
    "#    genre_df_count\n",
    "# 3) отсортировать genre_df_count по убыванию встречаемости и сохранить\n",
    "#    в переменную genre_df_sorted\n",
    "# 4) вернуть Series из 10 первых значений genre_df_sorted, это будут топ-10\n",
    "#    популярных жанров (в указанный день, в заданное время)"
   ]
  },
  {
   "cell_type": "markdown",
   "metadata": {
    "id": "la2s2_PF_Zcu"
   },
   "source": [
    "Cравните результаты функции `genre_weekday()` для Москвы и Санкт-Петербурга в понедельник утром (с 7:00 до 11:00) и в пятницу вечером (с 17:00 до 23:00):"
   ]
  },
  {
   "cell_type": "code",
   "execution_count": 32,
   "metadata": {
    "id": "yz7itPUQ_Zcu"
   },
   "outputs": [
    {
     "data": {
      "text/plain": [
       "genre\n",
       "pop            781\n",
       "dance          549\n",
       "electronic     480\n",
       "rock           474\n",
       "hiphop         286\n",
       "ruspop         186\n",
       "world          181\n",
       "rusrap         175\n",
       "alternative    164\n",
       "unknown        161\n",
       "Name: city, dtype: int64"
      ]
     },
     "execution_count": 32,
     "metadata": {},
     "output_type": "execute_result"
    }
   ],
   "source": [
    "genre_weekday(moscow_general, 'Monday', '07:00', '11:00')\n",
    "# вызов функции для утра понедельника в Москве (вместо df — таблица moscow_general)\n",
    "# объекты, хранящие время, являются строками и сравниваются как строки\n",
    "# пример вызова: genre_weekday(moscow_general, 'Monday', '07:00', '11:00')"
   ]
  },
  {
   "cell_type": "code",
   "execution_count": 33,
   "metadata": {
    "id": "kwUcHPdy_Zcu"
   },
   "outputs": [
    {
     "data": {
      "text/plain": [
       "genre\n",
       "pop            218\n",
       "dance          182\n",
       "rock           162\n",
       "electronic     147\n",
       "hiphop          80\n",
       "ruspop          64\n",
       "alternative     58\n",
       "rusrap          55\n",
       "jazz            44\n",
       "classical       40\n",
       "Name: city, dtype: int64"
      ]
     },
     "execution_count": 33,
     "metadata": {},
     "output_type": "execute_result"
    }
   ],
   "source": [
    "genre_weekday(spb_general, 'Monday', '07:00', '11:00')# вызов функции для утра понедельника в Петербурге (вместо df — таблица spb_general)"
   ]
  },
  {
   "cell_type": "code",
   "execution_count": 34,
   "metadata": {
    "id": "EzXVRE1o_Zcu"
   },
   "outputs": [
    {
     "data": {
      "text/plain": [
       "genre\n",
       "pop            713\n",
       "rock           517\n",
       "dance          495\n",
       "electronic     482\n",
       "hiphop         273\n",
       "world          208\n",
       "ruspop         170\n",
       "alternative    163\n",
       "classical      163\n",
       "rusrap         142\n",
       "Name: city, dtype: int64"
      ]
     },
     "execution_count": 34,
     "metadata": {},
     "output_type": "execute_result"
    }
   ],
   "source": [
    "genre_weekday(moscow_general, 'Friday', '17:00', '23:00')# вызов функции для вечера пятницы в Москве"
   ]
  },
  {
   "cell_type": "code",
   "execution_count": 35,
   "metadata": {
    "id": "JZaEKu5v_Zcu"
   },
   "outputs": [
    {
     "data": {
      "text/plain": [
       "genre\n",
       "pop            256\n",
       "rock           216\n",
       "electronic     216\n",
       "dance          210\n",
       "hiphop          97\n",
       "alternative     63\n",
       "jazz            61\n",
       "classical       60\n",
       "rusrap          59\n",
       "world           54\n",
       "Name: city, dtype: int64"
      ]
     },
     "execution_count": 35,
     "metadata": {},
     "output_type": "execute_result"
    }
   ],
   "source": [
    "genre_weekday(spb_general, 'Friday', '17:00', '23:00')# вызов функции для вечера пятницы в Петербурге"
   ]
  },
  {
   "cell_type": "markdown",
   "metadata": {
    "id": "wrCe4MNX_Zcu"
   },
   "source": [
    "**Выводы**\n",
    "\n",
    "Если сравнить топ-10 жанров в понедельник утром, можно сделать такие выводы:\n",
    "\n",
    "1. В Москве и Петербурге слушают похожую музыку. Единственное отличие — в московский рейтинг вошёл жанр “world”, а в петербургский — джаз и классика.\n",
    "\n",
    "2. В Москве пропущенных значений оказалось так много, что значение `'unknown'` заняло десятое место среди самых популярных жанров. Значит, пропущенные значения занимают существенную долю в данных и угрожают достоверности исследования.\n",
    "\n",
    "Вечер пятницы не меняет эту картину. Некоторые жанры поднимаются немного выше, другие спускаются, но в целом топ-10 остаётся тем же самым.\n",
    "\n",
    "Таким образом, вторая гипотеза подтвердилась лишь частично:\n",
    "* Пользователи слушают похожую музыку в начале недели и в конце.\n",
    "* Разница между Москвой и Петербургом не слишком выражена. В Москве чаще слушают русскую популярную музыку, в Петербурге — джаз.\n",
    "\n",
    "Однако пропуски в данных ставят под сомнение этот результат. В Москве их так много, что рейтинг топ-10 мог бы выглядеть иначе, если бы не утерянные  данные о жанрах."
   ]
  },
  {
   "cell_type": "markdown",
   "metadata": {
    "id": "JolODAqr_Zcu"
   },
   "source": [
    "### Жанровые предпочтения в Москве и Петербурге\n",
    "\n",
    "Гипотеза: Петербург — столица рэпа, музыку этого жанра там слушают чаще, чем в Москве.  А Москва — город контрастов, в котором, тем не менее, преобладает поп-музыка."
   ]
  },
  {
   "cell_type": "markdown",
   "metadata": {
    "id": "DlegSvaT_Zcu"
   },
   "source": [
    "Сгруппируйте таблицу `moscow_general` по жанру и посчитайте прослушивания треков каждого жанра методом `count()`. Затем отсортируйте результат в порядке убывания и сохраните его в таблице `moscow_genres`."
   ]
  },
  {
   "cell_type": "code",
   "execution_count": 36,
   "metadata": {
    "id": "r19lIPke_Zcu"
   },
   "outputs": [
    {
     "data": {
      "text/plain": [
       "genre\n",
       "pop            5892\n",
       "dance          4435\n",
       "rock           3965\n",
       "electronic     3786\n",
       "hiphop         2096\n",
       "               ... \n",
       "malaysian         1\n",
       "marschmusik       1\n",
       "metalcore         1\n",
       "mood              1\n",
       "acid              1\n",
       "Name: genre, Length: 267, dtype: int64"
      ]
     },
     "execution_count": 36,
     "metadata": {},
     "output_type": "execute_result"
    }
   ],
   "source": [
    "moscow_genres = moscow_general.groupby('genre')['genre'].count().sort_values(ascending=False)\n",
    "moscow_genres\n",
    "# одной строкой: группировка таблицы moscow_general по столбцу 'genre', \n",
    "# подсчёт числа значений 'genre' в этой группировке методом count(), \n",
    "# сортировка получившегося Series в порядке убывания и сохранение в moscow_genres"
   ]
  },
  {
   "cell_type": "markdown",
   "metadata": {
    "id": "6kMuomxTiIr8"
   },
   "source": [
    "Выведите на экран первые десять строк `moscow_genres`:"
   ]
  },
  {
   "cell_type": "code",
   "execution_count": 37,
   "metadata": {
    "id": "WhCSooF8_Zcv"
   },
   "outputs": [
    {
     "data": {
      "text/plain": [
       "genre\n",
       "pop            5892\n",
       "dance          4435\n",
       "rock           3965\n",
       "electronic     3786\n",
       "hiphop         2096\n",
       "classical      1616\n",
       "world          1432\n",
       "alternative    1379\n",
       "ruspop         1372\n",
       "rusrap         1161\n",
       "Name: genre, dtype: int64"
      ]
     },
     "execution_count": 37,
     "metadata": {},
     "output_type": "execute_result"
    }
   ],
   "source": [
    "moscow_genres.head(10)# просмотр первых 10 строк moscow_genres"
   ]
  },
  {
   "cell_type": "markdown",
   "metadata": {},
   "source": [
    "<div class=\"alert alert-success\" style=\"border-radius: 15px; box-shadow: 4px 4px 4px; border: 1px solid \">\n",
    "<h2> Комментарий ревьюера</h2>\n",
    "    \n",
    "Можно и это вывести как таблицу с помощью метода **to_frame**:\n",
    "\n",
    "</div>\n"
   ]
  },
  {
   "cell_type": "code",
   "execution_count": 38,
   "metadata": {},
   "outputs": [
    {
     "data": {
      "text/html": [
       "<div>\n",
       "<style scoped>\n",
       "    .dataframe tbody tr th:only-of-type {\n",
       "        vertical-align: middle;\n",
       "    }\n",
       "\n",
       "    .dataframe tbody tr th {\n",
       "        vertical-align: top;\n",
       "    }\n",
       "\n",
       "    .dataframe thead th {\n",
       "        text-align: right;\n",
       "    }\n",
       "</style>\n",
       "<table border=\"1\" class=\"dataframe\">\n",
       "  <thead>\n",
       "    <tr style=\"text-align: right;\">\n",
       "      <th></th>\n",
       "      <th>genre</th>\n",
       "    </tr>\n",
       "    <tr>\n",
       "      <th>genre</th>\n",
       "      <th></th>\n",
       "    </tr>\n",
       "  </thead>\n",
       "  <tbody>\n",
       "    <tr>\n",
       "      <td>pop</td>\n",
       "      <td>5892</td>\n",
       "    </tr>\n",
       "    <tr>\n",
       "      <td>dance</td>\n",
       "      <td>4435</td>\n",
       "    </tr>\n",
       "    <tr>\n",
       "      <td>rock</td>\n",
       "      <td>3965</td>\n",
       "    </tr>\n",
       "    <tr>\n",
       "      <td>electronic</td>\n",
       "      <td>3786</td>\n",
       "    </tr>\n",
       "    <tr>\n",
       "      <td>hiphop</td>\n",
       "      <td>2096</td>\n",
       "    </tr>\n",
       "    <tr>\n",
       "      <td>classical</td>\n",
       "      <td>1616</td>\n",
       "    </tr>\n",
       "    <tr>\n",
       "      <td>world</td>\n",
       "      <td>1432</td>\n",
       "    </tr>\n",
       "    <tr>\n",
       "      <td>alternative</td>\n",
       "      <td>1379</td>\n",
       "    </tr>\n",
       "    <tr>\n",
       "      <td>ruspop</td>\n",
       "      <td>1372</td>\n",
       "    </tr>\n",
       "    <tr>\n",
       "      <td>rusrap</td>\n",
       "      <td>1161</td>\n",
       "    </tr>\n",
       "  </tbody>\n",
       "</table>\n",
       "</div>"
      ],
      "text/plain": [
       "             genre\n",
       "genre             \n",
       "pop           5892\n",
       "dance         4435\n",
       "rock          3965\n",
       "electronic    3786\n",
       "hiphop        2096\n",
       "classical     1616\n",
       "world         1432\n",
       "alternative   1379\n",
       "ruspop        1372\n",
       "rusrap        1161"
      ]
     },
     "execution_count": 38,
     "metadata": {},
     "output_type": "execute_result"
    }
   ],
   "source": [
    "# КОД РЕВЬЮЕРА\n",
    "\n",
    "moscow_genres.to_frame().head(10)"
   ]
  },
  {
   "cell_type": "markdown",
   "metadata": {
    "id": "cnPG2vnN_Zcv"
   },
   "source": [
    "Теперь повторите то же и для Петербурга.\n",
    "\n",
    "Сгруппируйте таблицу `spb_general` по жанру. Посчитайте прослушивания треков каждого жанра. Результат отсортируйте в порядке убывания и сохраните в таблице `spb_genres`:\n"
   ]
  },
  {
   "cell_type": "code",
   "execution_count": 39,
   "metadata": {
    "id": "gluLIpE7_Zcv"
   },
   "outputs": [],
   "source": [
    "spb_genres = spb_general.groupby('genre')['genre'].count().sort_values(ascending=False)\n",
    "# одной строкой: группировка таблицы spb_general по столбцу 'genre', \n",
    "# подсчёт числа значений 'genre' в этой группировке методом count(), \n",
    "# сортировка получившегося Series в порядке убывания и сохранение в spb_genres"
   ]
  },
  {
   "cell_type": "markdown",
   "metadata": {
    "id": "5Doha_ODgyQ8"
   },
   "source": [
    "Выведите на экран первые десять строк `spb_genres`:"
   ]
  },
  {
   "cell_type": "code",
   "execution_count": 40,
   "metadata": {
    "id": "uaGJHjVU_Zcv"
   },
   "outputs": [
    {
     "data": {
      "text/plain": [
       "genre\n",
       "pop            2431\n",
       "dance          1932\n",
       "rock           1879\n",
       "electronic     1736\n",
       "hiphop          960\n",
       "alternative     649\n",
       "classical       646\n",
       "rusrap          564\n",
       "ruspop          538\n",
       "world           515\n",
       "Name: genre, dtype: int64"
      ]
     },
     "execution_count": 40,
     "metadata": {},
     "output_type": "execute_result"
    }
   ],
   "source": [
    "spb_genres.head(10)# просмотр первых 10 строк spb_genres"
   ]
  },
  {
   "cell_type": "markdown",
   "metadata": {
    "id": "RY51YJYu_Zcv"
   },
   "source": [
    "**Выводы**"
   ]
  },
  {
   "cell_type": "markdown",
   "metadata": {
    "id": "nVhnJEm__Zcv"
   },
   "source": [
    "Гипотеза частично подтвердилась:\n",
    "* Поп-музыка — самый популярный жанр в Москве, как и предполагала гипотеза. Более того, в топ-10 жанров встречается близкий жанр — русская популярная музыка.\n",
    "* Вопреки ожиданиям, рэп одинаково популярен в Москве и Петербурге. \n"
   ]
  },
  {
   "cell_type": "markdown",
   "metadata": {
    "id": "ykKQ0N65_Zcv"
   },
   "source": [
    "## Итоги исследования"
   ]
  },
  {
   "cell_type": "markdown",
   "metadata": {
    "id": "tjUwbHb3_Zcv"
   },
   "source": [
    "Вы проверили три гипотезы и установили:\n",
    "\n",
    "1. День недели по-разному влияет на активность пользователей в Москве и Петербурге. \n",
    "\n",
    "Первая гипотеза полностью подтвердилась.\n",
    "\n",
    "2. Музыкальные предпочтения не сильно меняются в течение недели — будь то Москва или Петербург. Небольшие различия заметны в начале недели, по понедельникам:\n",
    "* в Москве слушают музыку жанра “world”,\n",
    "* в Петербурге — джаз и классику.\n",
    "\n",
    "Таким образом, вторая гипотеза подтвердилась лишь отчасти. Этот результат мог оказаться иным, если бы не пропуски в данных.\n",
    "\n",
    "3. Во вкусах пользователей Москвы и Петербурга больше общего чем различий. Вопреки ожиданиям, предпочтения жанров в Петербурге напоминают московские.\n",
    "\n",
    "Третья гипотеза не подтвердилась. Если различия в предпочтениях и существуют, на основной массе пользователей они незаметны.\n",
    "\n",
    "**На практике исследования содержат проверки статистических гипотез.**\n",
    "Из данных одного сервиса не всегда можно сделать вывод о всех жителях города.\n",
    "Проверки статистических гипотез покажут, насколько они достоверны, исходя из имеющихся данных. \n",
    "С методами проверок гипотез вы ещё познакомитесь в следующих темах."
   ]
  },
  {
   "cell_type": "markdown",
   "metadata": {},
   "source": [
    "<div class=\"alert alert-success\" style=\"border-radius: 15px; box-shadow: 4px 4px 4px; border: 1px solid \">\n",
    "<h2> Комментарий ревьюера</h2>\n",
    "    \n",
    "Общий вывод это очень важно. Зачастую подобные задачи заканчиваются составлением презентаций или отчетов для заказчика. Поэтому все результаты нужно описывать в общем выводе. В идеале надо подкреплять его полученными ранее значениями. Так что рекомендую  во всех следующих проектах не забывать о нем :) \n",
    "\n",
    "</div>"
   ]
  }
 ],
 "metadata": {
  "ExecuteTimeLog": [
   {
    "duration": 756,
    "start_time": "2021-11-09T11:39:35.244Z"
   },
   {
    "duration": 191,
    "start_time": "2021-11-09T11:48:12.190Z"
   },
   {
    "duration": 1673,
    "start_time": "2021-11-09T11:48:22.062Z"
   },
   {
    "duration": 188,
    "start_time": "2021-11-09T11:48:24.400Z"
   },
   {
    "duration": 3259,
    "start_time": "2021-11-09T12:14:39.123Z"
   },
   {
    "duration": 206,
    "start_time": "2021-11-09T12:15:36.336Z"
   },
   {
    "duration": 28,
    "start_time": "2021-11-09T12:16:04.880Z"
   },
   {
    "duration": 299,
    "start_time": "2021-11-09T12:16:44.860Z"
   },
   {
    "duration": 15,
    "start_time": "2021-11-09T12:16:57.376Z"
   },
   {
    "duration": 13,
    "start_time": "2021-11-09T12:17:40.894Z"
   },
   {
    "duration": 13,
    "start_time": "2021-11-09T12:18:46.752Z"
   },
   {
    "duration": 18,
    "start_time": "2021-11-09T12:18:58.111Z"
   },
   {
    "duration": 59,
    "start_time": "2021-11-09T12:20:11.878Z"
   },
   {
    "duration": 5,
    "start_time": "2021-11-09T12:22:26.144Z"
   },
   {
    "duration": 5,
    "start_time": "2021-11-09T12:30:24.019Z"
   },
   {
    "duration": 28,
    "start_time": "2021-11-09T12:39:29.929Z"
   },
   {
    "duration": 5,
    "start_time": "2021-11-09T12:39:37.598Z"
   },
   {
    "duration": 34,
    "start_time": "2021-11-09T12:42:09.281Z"
   },
   {
    "duration": 22,
    "start_time": "2021-11-09T12:44:48.119Z"
   },
   {
    "duration": 32,
    "start_time": "2021-11-09T12:44:58.112Z"
   },
   {
    "duration": 94,
    "start_time": "2021-11-09T12:45:49.015Z"
   },
   {
    "duration": 471,
    "start_time": "2021-11-09T12:47:20.742Z"
   },
   {
    "duration": 100,
    "start_time": "2021-11-09T12:47:36.091Z"
   },
   {
    "duration": 77,
    "start_time": "2021-11-09T12:47:39.464Z"
   },
   {
    "duration": 135,
    "start_time": "2021-11-09T12:48:32.552Z"
   },
   {
    "duration": 10,
    "start_time": "2021-11-09T12:48:41.785Z"
   },
   {
    "duration": 394,
    "start_time": "2021-11-09T12:53:07.227Z"
   },
   {
    "duration": 60,
    "start_time": "2021-11-09T12:54:41.398Z"
   },
   {
    "duration": 5,
    "start_time": "2021-11-10T08:05:46.042Z"
   },
   {
    "duration": 580,
    "start_time": "2021-11-10T08:06:36.163Z"
   },
   {
    "duration": 5,
    "start_time": "2021-11-10T08:32:07.348Z"
   },
   {
    "duration": 526,
    "start_time": "2021-11-10T08:32:10.334Z"
   },
   {
    "duration": 4,
    "start_time": "2021-11-10T11:01:10.340Z"
   },
   {
    "duration": 525,
    "start_time": "2021-11-10T11:01:15.569Z"
   },
   {
    "duration": 277,
    "start_time": "2021-11-10T11:03:31.039Z"
   },
   {
    "duration": 553,
    "start_time": "2021-11-10T11:04:58.632Z"
   },
   {
    "duration": 4,
    "start_time": "2021-11-10T11:06:04.123Z"
   },
   {
    "duration": 781,
    "start_time": "2021-11-10T11:06:07.249Z"
   },
   {
    "duration": 3257,
    "start_time": "2021-11-10T11:09:19.210Z"
   },
   {
    "duration": 165,
    "start_time": "2021-11-10T11:09:30.416Z"
   },
   {
    "duration": 4,
    "start_time": "2021-11-10T11:12:20.650Z"
   },
   {
    "duration": 545,
    "start_time": "2021-11-10T11:12:25.310Z"
   },
   {
    "duration": 5,
    "start_time": "2021-11-10T11:13:48.372Z"
   },
   {
    "duration": 588,
    "start_time": "2021-11-10T11:13:51.402Z"
   },
   {
    "duration": 5,
    "start_time": "2021-11-10T13:35:08.656Z"
   },
   {
    "duration": 529,
    "start_time": "2021-11-10T13:35:12.806Z"
   },
   {
    "duration": 789,
    "start_time": "2021-11-10T13:39:08.230Z"
   },
   {
    "duration": 188,
    "start_time": "2021-11-10T13:39:09.022Z"
   },
   {
    "duration": 25,
    "start_time": "2021-11-10T13:39:09.214Z"
   },
   {
    "duration": 45,
    "start_time": "2021-11-10T13:39:09.242Z"
   },
   {
    "duration": 6,
    "start_time": "2021-11-10T13:39:09.290Z"
   },
   {
    "duration": 28,
    "start_time": "2021-11-10T13:39:09.299Z"
   },
   {
    "duration": 41,
    "start_time": "2021-11-10T13:39:09.330Z"
   },
   {
    "duration": 32,
    "start_time": "2021-11-10T13:39:09.375Z"
   },
   {
    "duration": 22,
    "start_time": "2021-11-10T13:39:09.410Z"
   },
   {
    "duration": 56,
    "start_time": "2021-11-10T13:39:09.435Z"
   },
   {
    "duration": 97,
    "start_time": "2021-11-10T13:39:09.493Z"
   },
   {
    "duration": 116,
    "start_time": "2021-11-10T13:39:09.592Z"
   },
   {
    "duration": 88,
    "start_time": "2021-11-10T13:39:09.710Z"
   },
   {
    "duration": 68,
    "start_time": "2021-11-10T13:39:09.800Z"
   },
   {
    "duration": 4,
    "start_time": "2021-11-10T13:39:09.871Z"
   },
   {
    "duration": 27,
    "start_time": "2021-11-10T13:39:09.877Z"
   },
   {
    "duration": 3,
    "start_time": "2021-11-10T13:39:09.907Z"
   },
   {
    "duration": 6,
    "start_time": "2021-11-10T13:39:09.912Z"
   },
   {
    "duration": 7,
    "start_time": "2021-11-10T13:39:09.920Z"
   },
   {
    "duration": 8,
    "start_time": "2021-11-10T13:39:09.929Z"
   },
   {
    "duration": 3,
    "start_time": "2021-11-10T13:39:09.967Z"
   },
   {
    "duration": 8,
    "start_time": "2021-11-10T13:39:09.972Z"
   },
   {
    "duration": 5,
    "start_time": "2021-11-10T13:39:09.985Z"
   },
   {
    "duration": 10,
    "start_time": "2021-11-10T13:39:09.993Z"
   },
   {
    "duration": 9,
    "start_time": "2021-11-10T13:39:10.005Z"
   },
   {
    "duration": 9,
    "start_time": "2021-11-10T13:39:10.017Z"
   },
   {
    "duration": 9,
    "start_time": "2021-11-10T13:39:10.028Z"
   },
   {
    "duration": 7,
    "start_time": "2021-11-10T13:39:10.068Z"
   },
   {
    "duration": 6,
    "start_time": "2021-11-10T13:39:10.078Z"
   },
   {
    "duration": 7,
    "start_time": "2021-11-10T13:39:10.087Z"
   },
   {
    "duration": 15,
    "start_time": "2021-11-10T13:39:10.096Z"
   },
   {
    "duration": 6,
    "start_time": "2021-11-10T13:39:10.113Z"
   },
   {
    "duration": 10,
    "start_time": "2021-11-10T13:39:10.121Z"
   },
   {
    "duration": 7,
    "start_time": "2021-11-10T13:39:10.134Z"
   },
   {
    "duration": 24,
    "start_time": "2021-11-10T13:39:10.144Z"
   },
   {
    "duration": 7,
    "start_time": "2021-11-10T13:39:10.171Z"
   },
   {
    "duration": 11,
    "start_time": "2021-11-10T13:39:10.181Z"
   },
   {
    "duration": 10,
    "start_time": "2021-11-10T13:39:10.194Z"
   },
   {
    "duration": 58,
    "start_time": "2021-11-10T13:39:45.998Z"
   },
   {
    "duration": 38,
    "start_time": "2021-11-10T13:47:46.924Z"
   },
   {
    "duration": 49,
    "start_time": "2021-11-10T13:48:02.997Z"
   },
   {
    "duration": 15,
    "start_time": "2021-11-10T13:48:58.369Z"
   },
   {
    "duration": 18,
    "start_time": "2021-11-10T13:49:07.967Z"
   },
   {
    "duration": 14,
    "start_time": "2021-11-10T13:49:21.445Z"
   },
   {
    "duration": 16,
    "start_time": "2021-11-10T13:49:25.356Z"
   },
   {
    "duration": 14,
    "start_time": "2021-11-10T13:54:01.279Z"
   },
   {
    "duration": 349,
    "start_time": "2021-11-10T13:54:24.515Z"
   },
   {
    "duration": 100,
    "start_time": "2021-11-10T13:54:40.733Z"
   },
   {
    "duration": 8,
    "start_time": "2021-11-10T13:54:44.258Z"
   },
   {
    "duration": 40,
    "start_time": "2021-11-10T14:10:18.548Z"
   },
   {
    "duration": 45,
    "start_time": "2021-11-10T14:10:31.615Z"
   },
   {
    "duration": 20,
    "start_time": "2021-11-10T14:11:56.944Z"
   },
   {
    "duration": 16,
    "start_time": "2021-11-10T14:13:51.368Z"
   },
   {
    "duration": 14,
    "start_time": "2021-11-10T14:14:34.239Z"
   },
   {
    "duration": 528,
    "start_time": "2021-11-10T20:22:03.316Z"
   },
   {
    "duration": 126,
    "start_time": "2021-11-10T20:22:03.846Z"
   },
   {
    "duration": 21,
    "start_time": "2021-11-10T20:22:03.975Z"
   },
   {
    "duration": 23,
    "start_time": "2021-11-10T20:22:03.998Z"
   },
   {
    "duration": 4,
    "start_time": "2021-11-10T20:22:04.023Z"
   },
   {
    "duration": 20,
    "start_time": "2021-11-10T20:22:04.028Z"
   },
   {
    "duration": 3,
    "start_time": "2021-11-10T20:22:04.051Z"
   },
   {
    "duration": 51,
    "start_time": "2021-11-10T20:22:04.056Z"
   },
   {
    "duration": 17,
    "start_time": "2021-11-10T20:22:04.108Z"
   },
   {
    "duration": 21,
    "start_time": "2021-11-10T20:22:04.126Z"
   },
   {
    "duration": 70,
    "start_time": "2021-11-10T20:22:04.148Z"
   },
   {
    "duration": 61,
    "start_time": "2021-11-10T20:22:04.219Z"
   },
   {
    "duration": 54,
    "start_time": "2021-11-10T20:22:04.282Z"
   },
   {
    "duration": 37,
    "start_time": "2021-11-10T20:22:04.337Z"
   },
   {
    "duration": 3,
    "start_time": "2021-11-10T20:22:04.390Z"
   },
   {
    "duration": 17,
    "start_time": "2021-11-10T20:22:04.395Z"
   },
   {
    "duration": 38,
    "start_time": "2021-11-10T20:22:04.413Z"
   },
   {
    "duration": 10,
    "start_time": "2021-11-10T20:22:04.453Z"
   },
   {
    "duration": 34,
    "start_time": "2021-11-10T20:22:04.465Z"
   },
   {
    "duration": 2,
    "start_time": "2021-11-10T20:22:04.501Z"
   },
   {
    "duration": 3,
    "start_time": "2021-11-10T20:22:04.505Z"
   },
   {
    "duration": 7,
    "start_time": "2021-11-10T20:22:04.511Z"
   },
   {
    "duration": 12,
    "start_time": "2021-11-10T20:22:04.520Z"
   },
   {
    "duration": 4,
    "start_time": "2021-11-10T20:22:04.533Z"
   },
   {
    "duration": 7,
    "start_time": "2021-11-10T20:22:04.539Z"
   },
   {
    "duration": 5,
    "start_time": "2021-11-10T20:22:04.547Z"
   },
   {
    "duration": 3,
    "start_time": "2021-11-10T20:22:04.554Z"
   },
   {
    "duration": 5,
    "start_time": "2021-11-10T20:22:04.558Z"
   },
   {
    "duration": 5,
    "start_time": "2021-11-10T20:22:04.565Z"
   },
   {
    "duration": 5,
    "start_time": "2021-11-10T20:22:04.572Z"
   },
   {
    "duration": 13,
    "start_time": "2021-11-10T20:22:04.579Z"
   },
   {
    "duration": 6,
    "start_time": "2021-11-10T20:22:04.593Z"
   },
   {
    "duration": 10,
    "start_time": "2021-11-10T20:22:04.600Z"
   },
   {
    "duration": 6,
    "start_time": "2021-11-10T20:22:04.612Z"
   },
   {
    "duration": 8,
    "start_time": "2021-11-10T20:22:04.619Z"
   },
   {
    "duration": 8,
    "start_time": "2021-11-10T20:22:04.628Z"
   },
   {
    "duration": 5,
    "start_time": "2021-11-10T20:22:04.637Z"
   },
   {
    "duration": 6,
    "start_time": "2021-11-10T20:22:04.643Z"
   },
   {
    "duration": 607,
    "start_time": "2021-11-11T06:04:52.737Z"
   },
   {
    "duration": 134,
    "start_time": "2021-11-11T06:04:53.346Z"
   },
   {
    "duration": 16,
    "start_time": "2021-11-11T06:04:53.484Z"
   },
   {
    "duration": 29,
    "start_time": "2021-11-11T06:04:53.501Z"
   },
   {
    "duration": 12,
    "start_time": "2021-11-11T06:04:53.532Z"
   },
   {
    "duration": 19,
    "start_time": "2021-11-11T06:04:53.545Z"
   },
   {
    "duration": 4,
    "start_time": "2021-11-11T06:04:53.567Z"
   },
   {
    "duration": 26,
    "start_time": "2021-11-11T06:04:53.573Z"
   },
   {
    "duration": 17,
    "start_time": "2021-11-11T06:04:53.601Z"
   },
   {
    "duration": 43,
    "start_time": "2021-11-11T06:04:53.620Z"
   },
   {
    "duration": 71,
    "start_time": "2021-11-11T06:04:53.664Z"
   },
   {
    "duration": 58,
    "start_time": "2021-11-11T06:04:53.737Z"
   },
   {
    "duration": 56,
    "start_time": "2021-11-11T06:04:53.797Z"
   },
   {
    "duration": 41,
    "start_time": "2021-11-11T06:04:53.855Z"
   },
   {
    "duration": 3,
    "start_time": "2021-11-11T06:04:53.897Z"
   },
   {
    "duration": 17,
    "start_time": "2021-11-11T06:04:53.902Z"
   },
   {
    "duration": 60,
    "start_time": "2021-11-11T06:04:53.920Z"
   },
   {
    "duration": 10,
    "start_time": "2021-11-11T06:04:53.982Z"
   },
   {
    "duration": 10,
    "start_time": "2021-11-11T06:04:53.993Z"
   },
   {
    "duration": 2,
    "start_time": "2021-11-11T06:04:54.005Z"
   },
   {
    "duration": 3,
    "start_time": "2021-11-11T06:04:54.009Z"
   },
   {
    "duration": 31,
    "start_time": "2021-11-11T06:04:54.015Z"
   },
   {
    "duration": 4,
    "start_time": "2021-11-11T06:04:54.048Z"
   },
   {
    "duration": 6,
    "start_time": "2021-11-11T06:04:54.053Z"
   },
   {
    "duration": 7,
    "start_time": "2021-11-11T06:04:54.060Z"
   },
   {
    "duration": 6,
    "start_time": "2021-11-11T06:04:54.068Z"
   },
   {
    "duration": 5,
    "start_time": "2021-11-11T06:04:54.076Z"
   },
   {
    "duration": 7,
    "start_time": "2021-11-11T06:04:54.083Z"
   },
   {
    "duration": 7,
    "start_time": "2021-11-11T06:04:54.092Z"
   },
   {
    "duration": 4,
    "start_time": "2021-11-11T06:04:54.101Z"
   },
   {
    "duration": 6,
    "start_time": "2021-11-11T06:04:54.107Z"
   },
   {
    "duration": 4,
    "start_time": "2021-11-11T06:04:54.114Z"
   },
   {
    "duration": 6,
    "start_time": "2021-11-11T06:04:54.120Z"
   },
   {
    "duration": 4,
    "start_time": "2021-11-11T06:04:54.128Z"
   },
   {
    "duration": 12,
    "start_time": "2021-11-11T06:04:54.133Z"
   },
   {
    "duration": 5,
    "start_time": "2021-11-11T06:04:54.146Z"
   },
   {
    "duration": 6,
    "start_time": "2021-11-11T06:04:54.152Z"
   },
   {
    "duration": 5,
    "start_time": "2021-11-11T06:04:54.159Z"
   },
   {
    "duration": 4,
    "start_time": "2021-11-11T06:58:48.228Z"
   },
   {
    "duration": 18,
    "start_time": "2021-11-11T06:58:54.865Z"
   },
   {
    "duration": 19,
    "start_time": "2021-11-11T07:03:00.563Z"
   },
   {
    "duration": 17,
    "start_time": "2021-11-11T07:03:20.511Z"
   },
   {
    "duration": 17,
    "start_time": "2021-11-11T07:04:28.100Z"
   },
   {
    "duration": 17,
    "start_time": "2021-11-11T07:04:49.483Z"
   },
   {
    "duration": 15,
    "start_time": "2021-11-11T07:04:57.084Z"
   },
   {
    "duration": 569,
    "start_time": "2021-11-11T07:06:39.086Z"
   },
   {
    "duration": 141,
    "start_time": "2021-11-11T07:06:39.656Z"
   },
   {
    "duration": 16,
    "start_time": "2021-11-11T07:06:39.799Z"
   },
   {
    "duration": 39,
    "start_time": "2021-11-11T07:06:39.817Z"
   },
   {
    "duration": 25,
    "start_time": "2021-11-11T07:06:39.857Z"
   },
   {
    "duration": 41,
    "start_time": "2021-11-11T07:06:39.883Z"
   },
   {
    "duration": 20,
    "start_time": "2021-11-11T07:06:39.925Z"
   },
   {
    "duration": 44,
    "start_time": "2021-11-11T07:06:39.947Z"
   },
   {
    "duration": 40,
    "start_time": "2021-11-11T07:06:39.993Z"
   },
   {
    "duration": 46,
    "start_time": "2021-11-11T07:06:40.035Z"
   },
   {
    "duration": 75,
    "start_time": "2021-11-11T07:06:40.082Z"
   },
   {
    "duration": 65,
    "start_time": "2021-11-11T07:06:40.159Z"
   },
   {
    "duration": 59,
    "start_time": "2021-11-11T07:06:40.226Z"
   },
   {
    "duration": 37,
    "start_time": "2021-11-11T07:06:40.287Z"
   },
   {
    "duration": 3,
    "start_time": "2021-11-11T07:06:40.325Z"
   },
   {
    "duration": 28,
    "start_time": "2021-11-11T07:06:40.330Z"
   },
   {
    "duration": 42,
    "start_time": "2021-11-11T07:06:40.360Z"
   },
   {
    "duration": 12,
    "start_time": "2021-11-11T07:06:40.404Z"
   },
   {
    "duration": 37,
    "start_time": "2021-11-11T07:06:40.417Z"
   },
   {
    "duration": 4,
    "start_time": "2021-11-11T07:06:40.456Z"
   },
   {
    "duration": 27,
    "start_time": "2021-11-11T07:06:40.462Z"
   },
   {
    "duration": 2,
    "start_time": "2021-11-11T07:06:40.491Z"
   },
   {
    "duration": 10,
    "start_time": "2021-11-11T07:06:40.497Z"
   },
   {
    "duration": 5,
    "start_time": "2021-11-11T07:06:40.510Z"
   },
   {
    "duration": 10,
    "start_time": "2021-11-11T07:06:40.517Z"
   },
   {
    "duration": 15,
    "start_time": "2021-11-11T07:06:40.529Z"
   },
   {
    "duration": 6,
    "start_time": "2021-11-11T07:06:40.546Z"
   },
   {
    "duration": 5,
    "start_time": "2021-11-11T07:06:40.553Z"
   },
   {
    "duration": 4,
    "start_time": "2021-11-11T07:06:40.560Z"
   },
   {
    "duration": 15,
    "start_time": "2021-11-11T07:06:40.566Z"
   },
   {
    "duration": 19,
    "start_time": "2021-11-11T07:06:40.583Z"
   },
   {
    "duration": 7,
    "start_time": "2021-11-11T07:06:40.603Z"
   },
   {
    "duration": 6,
    "start_time": "2021-11-11T07:06:40.612Z"
   },
   {
    "duration": 6,
    "start_time": "2021-11-11T07:06:40.619Z"
   },
   {
    "duration": 5,
    "start_time": "2021-11-11T07:06:40.626Z"
   },
   {
    "duration": 5,
    "start_time": "2021-11-11T07:06:40.632Z"
   },
   {
    "duration": 5,
    "start_time": "2021-11-11T07:06:40.639Z"
   },
   {
    "duration": 6,
    "start_time": "2021-11-11T07:06:40.645Z"
   },
   {
    "duration": 15,
    "start_time": "2021-11-11T07:07:10.617Z"
   },
   {
    "duration": 14,
    "start_time": "2021-11-11T07:07:28.137Z"
   },
   {
    "duration": 14,
    "start_time": "2021-11-11T07:07:42.226Z"
   },
   {
    "duration": 19,
    "start_time": "2021-11-11T07:07:56.662Z"
   },
   {
    "duration": 15,
    "start_time": "2021-11-11T07:08:08.378Z"
   },
   {
    "duration": 335,
    "start_time": "2021-11-11T08:39:19.604Z"
   },
   {
    "duration": 93,
    "start_time": "2021-11-11T08:39:53.248Z"
   },
   {
    "duration": 295,
    "start_time": "2021-11-11T08:40:31.641Z"
   },
   {
    "duration": 90,
    "start_time": "2021-11-11T08:40:59.123Z"
   },
   {
    "duration": 270,
    "start_time": "2021-11-11T08:41:17.738Z"
   },
   {
    "duration": 263,
    "start_time": "2021-11-11T08:41:34.033Z"
   },
   {
    "duration": 269,
    "start_time": "2021-11-11T08:41:45.924Z"
   },
   {
    "duration": 573,
    "start_time": "2021-11-11T08:43:00.781Z"
   },
   {
    "duration": 146,
    "start_time": "2021-11-11T08:43:01.356Z"
   },
   {
    "duration": 16,
    "start_time": "2021-11-11T08:43:01.505Z"
   },
   {
    "duration": 45,
    "start_time": "2021-11-11T08:43:01.523Z"
   },
   {
    "duration": 22,
    "start_time": "2021-11-11T08:43:01.570Z"
   },
   {
    "duration": 29,
    "start_time": "2021-11-11T08:43:01.594Z"
   },
   {
    "duration": 12,
    "start_time": "2021-11-11T08:43:01.625Z"
   },
   {
    "duration": 46,
    "start_time": "2021-11-11T08:43:01.639Z"
   },
   {
    "duration": 34,
    "start_time": "2021-11-11T08:43:01.688Z"
   },
   {
    "duration": 57,
    "start_time": "2021-11-11T08:43:01.725Z"
   },
   {
    "duration": 86,
    "start_time": "2021-11-11T08:43:01.784Z"
   },
   {
    "duration": 85,
    "start_time": "2021-11-11T08:43:01.872Z"
   },
   {
    "duration": 56,
    "start_time": "2021-11-11T08:43:01.959Z"
   },
   {
    "duration": 53,
    "start_time": "2021-11-11T08:43:02.017Z"
   },
   {
    "duration": 12,
    "start_time": "2021-11-11T08:43:02.072Z"
   },
   {
    "duration": 21,
    "start_time": "2021-11-11T08:43:02.085Z"
   },
   {
    "duration": 48,
    "start_time": "2021-11-11T08:43:02.108Z"
   },
   {
    "duration": 18,
    "start_time": "2021-11-11T08:43:02.157Z"
   },
   {
    "duration": 28,
    "start_time": "2021-11-11T08:43:02.178Z"
   },
   {
    "duration": 9,
    "start_time": "2021-11-11T08:43:02.209Z"
   },
   {
    "duration": 48,
    "start_time": "2021-11-11T08:43:02.220Z"
   },
   {
    "duration": 16,
    "start_time": "2021-11-11T08:43:02.270Z"
   },
   {
    "duration": 29,
    "start_time": "2021-11-11T08:43:02.288Z"
   },
   {
    "duration": 18,
    "start_time": "2021-11-11T08:43:02.318Z"
   },
   {
    "duration": 20,
    "start_time": "2021-11-11T08:43:02.345Z"
   },
   {
    "duration": 18,
    "start_time": "2021-11-11T08:43:02.367Z"
   },
   {
    "duration": 327,
    "start_time": "2021-11-11T08:43:02.389Z"
   },
   {
    "duration": -53,
    "start_time": "2021-11-11T08:43:02.771Z"
   },
   {
    "duration": -64,
    "start_time": "2021-11-11T08:43:02.784Z"
   },
   {
    "duration": -69,
    "start_time": "2021-11-11T08:43:02.790Z"
   },
   {
    "duration": -70,
    "start_time": "2021-11-11T08:43:02.792Z"
   },
   {
    "duration": -70,
    "start_time": "2021-11-11T08:43:02.794Z"
   },
   {
    "duration": -70,
    "start_time": "2021-11-11T08:43:02.796Z"
   },
   {
    "duration": -71,
    "start_time": "2021-11-11T08:43:02.798Z"
   },
   {
    "duration": -74,
    "start_time": "2021-11-11T08:43:02.803Z"
   },
   {
    "duration": -76,
    "start_time": "2021-11-11T08:43:02.806Z"
   },
   {
    "duration": -76,
    "start_time": "2021-11-11T08:43:02.808Z"
   },
   {
    "duration": -77,
    "start_time": "2021-11-11T08:43:02.810Z"
   },
   {
    "duration": 260,
    "start_time": "2021-11-11T08:43:07.379Z"
   },
   {
    "duration": 2,
    "start_time": "2021-11-11T08:45:12.600Z"
   },
   {
    "duration": 295,
    "start_time": "2021-11-11T08:48:47.167Z"
   },
   {
    "duration": 266,
    "start_time": "2021-11-11T08:49:18.152Z"
   },
   {
    "duration": 308,
    "start_time": "2021-11-11T08:49:49.491Z"
   },
   {
    "duration": 609,
    "start_time": "2021-11-11T08:57:15.341Z"
   },
   {
    "duration": 146,
    "start_time": "2021-11-11T08:57:15.952Z"
   },
   {
    "duration": 19,
    "start_time": "2021-11-11T08:57:16.103Z"
   },
   {
    "duration": 40,
    "start_time": "2021-11-11T08:57:16.124Z"
   },
   {
    "duration": 6,
    "start_time": "2021-11-11T08:57:16.166Z"
   },
   {
    "duration": 30,
    "start_time": "2021-11-11T08:57:16.173Z"
   },
   {
    "duration": 6,
    "start_time": "2021-11-11T08:57:16.206Z"
   },
   {
    "duration": 44,
    "start_time": "2021-11-11T08:57:16.215Z"
   },
   {
    "duration": 39,
    "start_time": "2021-11-11T08:57:16.261Z"
   },
   {
    "duration": 41,
    "start_time": "2021-11-11T08:57:16.302Z"
   },
   {
    "duration": 81,
    "start_time": "2021-11-11T08:57:16.345Z"
   },
   {
    "duration": 70,
    "start_time": "2021-11-11T08:57:16.428Z"
   },
   {
    "duration": 52,
    "start_time": "2021-11-11T08:57:16.500Z"
   },
   {
    "duration": 40,
    "start_time": "2021-11-11T08:57:16.554Z"
   },
   {
    "duration": 17,
    "start_time": "2021-11-11T08:57:16.596Z"
   },
   {
    "duration": 38,
    "start_time": "2021-11-11T08:57:16.615Z"
   },
   {
    "duration": 52,
    "start_time": "2021-11-11T08:57:16.655Z"
   },
   {
    "duration": 13,
    "start_time": "2021-11-11T08:57:16.709Z"
   },
   {
    "duration": 20,
    "start_time": "2021-11-11T08:57:16.724Z"
   },
   {
    "duration": 9,
    "start_time": "2021-11-11T08:57:16.746Z"
   },
   {
    "duration": 34,
    "start_time": "2021-11-11T08:57:16.756Z"
   },
   {
    "duration": 15,
    "start_time": "2021-11-11T08:57:16.793Z"
   },
   {
    "duration": 15,
    "start_time": "2021-11-11T08:57:16.810Z"
   },
   {
    "duration": 25,
    "start_time": "2021-11-11T08:57:16.826Z"
   },
   {
    "duration": 20,
    "start_time": "2021-11-11T08:57:16.853Z"
   },
   {
    "duration": 15,
    "start_time": "2021-11-11T08:57:16.875Z"
   },
   {
    "duration": 5,
    "start_time": "2021-11-11T08:57:16.892Z"
   },
   {
    "duration": 23,
    "start_time": "2021-11-11T08:57:16.899Z"
   },
   {
    "duration": 15,
    "start_time": "2021-11-11T08:57:16.924Z"
   },
   {
    "duration": 18,
    "start_time": "2021-11-11T08:57:16.940Z"
   },
   {
    "duration": 18,
    "start_time": "2021-11-11T08:57:16.959Z"
   },
   {
    "duration": 10,
    "start_time": "2021-11-11T08:57:16.978Z"
   },
   {
    "duration": 24,
    "start_time": "2021-11-11T08:57:16.989Z"
   },
   {
    "duration": 17,
    "start_time": "2021-11-11T08:57:17.015Z"
   },
   {
    "duration": 15,
    "start_time": "2021-11-11T08:57:17.034Z"
   },
   {
    "duration": 12,
    "start_time": "2021-11-11T08:57:17.050Z"
   },
   {
    "duration": 7,
    "start_time": "2021-11-11T08:57:17.064Z"
   },
   {
    "duration": 6,
    "start_time": "2021-11-11T08:57:17.073Z"
   },
   {
    "duration": 84,
    "start_time": "2021-11-11T09:02:22.105Z"
   },
   {
    "duration": 101,
    "start_time": "2021-11-11T09:02:29.985Z"
   },
   {
    "duration": 500,
    "start_time": "2021-11-11T09:06:34.394Z"
   },
   {
    "duration": 339,
    "start_time": "2021-11-11T09:07:24.224Z"
   },
   {
    "duration": 4,
    "start_time": "2021-11-11T09:11:38.464Z"
   },
   {
    "duration": 323,
    "start_time": "2021-11-11T09:12:21.424Z"
   },
   {
    "duration": 98,
    "start_time": "2021-11-11T09:15:15.943Z"
   },
   {
    "duration": 90,
    "start_time": "2021-11-11T09:15:47.700Z"
   },
   {
    "duration": 282,
    "start_time": "2021-11-11T09:16:15.149Z"
   },
   {
    "duration": 264,
    "start_time": "2021-11-11T09:19:19.964Z"
   },
   {
    "duration": 308,
    "start_time": "2021-11-11T09:24:29.996Z"
   },
   {
    "duration": 284,
    "start_time": "2021-11-11T09:25:03.707Z"
   },
   {
    "duration": 282,
    "start_time": "2021-11-11T09:25:08.876Z"
   },
   {
    "duration": 9,
    "start_time": "2021-11-11T09:26:59.558Z"
   },
   {
    "duration": 255,
    "start_time": "2021-11-11T10:59:13.030Z"
   },
   {
    "duration": 9,
    "start_time": "2021-11-11T10:59:50.172Z"
   },
   {
    "duration": 5,
    "start_time": "2021-11-11T11:03:10.292Z"
   },
   {
    "duration": 11,
    "start_time": "2021-11-11T11:03:44.721Z"
   },
   {
    "duration": 6,
    "start_time": "2021-11-11T11:03:54.017Z"
   },
   {
    "duration": 11,
    "start_time": "2021-11-11T11:09:07.314Z"
   },
   {
    "duration": 96,
    "start_time": "2021-11-11T11:20:04.000Z"
   },
   {
    "duration": -37,
    "start_time": "2021-11-11T11:20:36.434Z"
   },
   {
    "duration": 744,
    "start_time": "2021-11-11T17:42:12.897Z"
   },
   {
    "duration": 192,
    "start_time": "2021-11-11T17:42:13.644Z"
   },
   {
    "duration": 33,
    "start_time": "2021-11-11T17:42:13.839Z"
   },
   {
    "duration": 34,
    "start_time": "2021-11-11T17:42:13.874Z"
   },
   {
    "duration": 5,
    "start_time": "2021-11-11T17:42:13.911Z"
   },
   {
    "duration": 58,
    "start_time": "2021-11-11T17:42:13.919Z"
   },
   {
    "duration": 5,
    "start_time": "2021-11-11T17:42:13.979Z"
   },
   {
    "duration": 34,
    "start_time": "2021-11-11T17:42:13.987Z"
   },
   {
    "duration": 53,
    "start_time": "2021-11-11T17:42:14.027Z"
   },
   {
    "duration": 28,
    "start_time": "2021-11-11T17:42:14.084Z"
   },
   {
    "duration": 112,
    "start_time": "2021-11-11T17:42:14.115Z"
   },
   {
    "duration": 110,
    "start_time": "2021-11-11T17:42:14.229Z"
   },
   {
    "duration": 94,
    "start_time": "2021-11-11T17:42:14.341Z"
   },
   {
    "duration": 61,
    "start_time": "2021-11-11T17:42:14.438Z"
   },
   {
    "duration": 6,
    "start_time": "2021-11-11T17:42:14.501Z"
   },
   {
    "duration": 26,
    "start_time": "2021-11-11T17:42:14.509Z"
   },
   {
    "duration": 79,
    "start_time": "2021-11-11T17:42:14.538Z"
   },
   {
    "duration": 20,
    "start_time": "2021-11-11T17:42:14.620Z"
   },
   {
    "duration": 36,
    "start_time": "2021-11-11T17:42:14.643Z"
   },
   {
    "duration": 7,
    "start_time": "2021-11-11T17:42:14.681Z"
   },
   {
    "duration": 30,
    "start_time": "2021-11-11T17:42:14.691Z"
   },
   {
    "duration": 53,
    "start_time": "2021-11-11T17:42:14.724Z"
   },
   {
    "duration": 21,
    "start_time": "2021-11-11T17:42:14.780Z"
   },
   {
    "duration": 19,
    "start_time": "2021-11-11T17:42:14.803Z"
   },
   {
    "duration": 54,
    "start_time": "2021-11-11T17:42:14.824Z"
   },
   {
    "duration": 20,
    "start_time": "2021-11-11T17:42:14.881Z"
   },
   {
    "duration": 13,
    "start_time": "2021-11-11T17:42:14.907Z"
   },
   {
    "duration": 5228,
    "start_time": "2021-11-11T17:42:14.923Z"
   },
   {
    "duration": -2167,
    "start_time": "2021-11-11T17:42:22.321Z"
   },
   {
    "duration": -2171,
    "start_time": "2021-11-11T17:42:22.326Z"
   },
   {
    "duration": -2174,
    "start_time": "2021-11-11T17:42:22.331Z"
   },
   {
    "duration": -2177,
    "start_time": "2021-11-11T17:42:22.335Z"
   },
   {
    "duration": -2180,
    "start_time": "2021-11-11T17:42:22.340Z"
   },
   {
    "duration": -2183,
    "start_time": "2021-11-11T17:42:22.344Z"
   },
   {
    "duration": -2204,
    "start_time": "2021-11-11T17:42:22.367Z"
   },
   {
    "duration": -2210,
    "start_time": "2021-11-11T17:42:22.374Z"
   },
   {
    "duration": -2212,
    "start_time": "2021-11-11T17:42:22.377Z"
   },
   {
    "duration": -2214,
    "start_time": "2021-11-11T17:42:22.381Z"
   },
   {
    "duration": 3,
    "start_time": "2021-11-11T17:42:48.578Z"
   },
   {
    "duration": 5687,
    "start_time": "2021-11-11T17:52:44.474Z"
   },
   {
    "duration": 3,
    "start_time": "2021-11-11T18:03:40.389Z"
   },
   {
    "duration": 84,
    "start_time": "2021-11-11T18:04:50.531Z"
   },
   {
    "duration": 30,
    "start_time": "2021-11-11T18:05:58.649Z"
   },
   {
    "duration": 25,
    "start_time": "2021-11-11T18:06:36.374Z"
   },
   {
    "duration": 38,
    "start_time": "2021-11-11T18:21:12.480Z"
   },
   {
    "duration": 37,
    "start_time": "2021-11-11T18:27:23.309Z"
   },
   {
    "duration": 5,
    "start_time": "2021-11-11T18:27:45.057Z"
   },
   {
    "duration": 25,
    "start_time": "2021-11-11T18:27:49.847Z"
   },
   {
    "duration": 6,
    "start_time": "2021-11-11T18:31:53.706Z"
   },
   {
    "duration": 534,
    "start_time": "2021-11-11T18:31:56.683Z"
   },
   {
    "duration": 6,
    "start_time": "2021-11-11T18:32:11.260Z"
   },
   {
    "duration": 523,
    "start_time": "2021-11-11T18:32:14.093Z"
   },
   {
    "duration": 98,
    "start_time": "2021-11-11T18:32:45.562Z"
   },
   {
    "duration": 561,
    "start_time": "2021-11-11T18:32:48.082Z"
   },
   {
    "duration": 6,
    "start_time": "2021-11-11T18:33:04.565Z"
   },
   {
    "duration": 904,
    "start_time": "2021-11-11T18:33:09.144Z"
   },
   {
    "duration": 6,
    "start_time": "2021-11-11T18:34:05.631Z"
   },
   {
    "duration": 611,
    "start_time": "2021-11-11T18:34:10.295Z"
   },
   {
    "duration": 7,
    "start_time": "2021-11-11T18:34:23.374Z"
   },
   {
    "duration": 26,
    "start_time": "2021-11-11T18:34:27.136Z"
   },
   {
    "duration": 6,
    "start_time": "2021-11-11T18:35:15.558Z"
   },
   {
    "duration": 25,
    "start_time": "2021-11-11T18:35:19.249Z"
   },
   {
    "duration": 18,
    "start_time": "2021-11-11T18:36:42.434Z"
   },
   {
    "duration": 18,
    "start_time": "2021-11-11T18:37:24.880Z"
   },
   {
    "duration": 25,
    "start_time": "2021-11-11T18:38:34.365Z"
   },
   {
    "duration": 19,
    "start_time": "2021-11-11T18:38:37.718Z"
   },
   {
    "duration": 744,
    "start_time": "2021-11-11T18:38:47.712Z"
   },
   {
    "duration": 227,
    "start_time": "2021-11-11T18:38:48.459Z"
   },
   {
    "duration": 28,
    "start_time": "2021-11-11T18:38:48.689Z"
   },
   {
    "duration": 59,
    "start_time": "2021-11-11T18:38:48.721Z"
   },
   {
    "duration": 11,
    "start_time": "2021-11-11T18:38:48.783Z"
   },
   {
    "duration": 37,
    "start_time": "2021-11-11T18:38:48.796Z"
   },
   {
    "duration": 12,
    "start_time": "2021-11-11T18:38:48.835Z"
   },
   {
    "duration": 31,
    "start_time": "2021-11-11T18:38:48.867Z"
   },
   {
    "duration": 25,
    "start_time": "2021-11-11T18:38:48.902Z"
   },
   {
    "duration": 56,
    "start_time": "2021-11-11T18:38:48.929Z"
   },
   {
    "duration": 112,
    "start_time": "2021-11-11T18:38:48.987Z"
   },
   {
    "duration": 118,
    "start_time": "2021-11-11T18:38:49.101Z"
   },
   {
    "duration": 90,
    "start_time": "2021-11-11T18:38:49.221Z"
   },
   {
    "duration": 66,
    "start_time": "2021-11-11T18:38:49.313Z"
   },
   {
    "duration": 5,
    "start_time": "2021-11-11T18:38:49.382Z"
   },
   {
    "duration": 23,
    "start_time": "2021-11-11T18:38:49.390Z"
   },
   {
    "duration": 89,
    "start_time": "2021-11-11T18:38:49.416Z"
   },
   {
    "duration": 16,
    "start_time": "2021-11-11T18:38:49.508Z"
   },
   {
    "duration": 43,
    "start_time": "2021-11-11T18:38:49.527Z"
   },
   {
    "duration": 4,
    "start_time": "2021-11-11T18:38:49.573Z"
   },
   {
    "duration": 30,
    "start_time": "2021-11-11T18:38:49.580Z"
   },
   {
    "duration": 20,
    "start_time": "2021-11-11T18:38:49.613Z"
   },
   {
    "duration": 23,
    "start_time": "2021-11-11T18:38:49.666Z"
   },
   {
    "duration": 20,
    "start_time": "2021-11-11T18:38:49.692Z"
   },
   {
    "duration": 53,
    "start_time": "2021-11-11T18:38:49.715Z"
   },
   {
    "duration": 22,
    "start_time": "2021-11-11T18:38:49.771Z"
   },
   {
    "duration": 12,
    "start_time": "2021-11-11T18:38:49.796Z"
   },
   {
    "duration": 62,
    "start_time": "2021-11-11T18:38:49.810Z"
   },
   {
    "duration": 28,
    "start_time": "2021-11-11T18:38:49.874Z"
   },
   {
    "duration": 6,
    "start_time": "2021-11-11T18:38:49.905Z"
   },
   {
    "duration": 58,
    "start_time": "2021-11-11T18:38:49.914Z"
   },
   {
    "duration": 19,
    "start_time": "2021-11-11T18:38:49.974Z"
   },
   {
    "duration": 22,
    "start_time": "2021-11-11T18:38:49.995Z"
   },
   {
    "duration": 50,
    "start_time": "2021-11-11T18:38:50.020Z"
   },
   {
    "duration": 3,
    "start_time": "2021-11-11T18:38:50.072Z"
   },
   {
    "duration": 10,
    "start_time": "2021-11-11T18:38:50.077Z"
   },
   {
    "duration": 8,
    "start_time": "2021-11-11T18:38:50.089Z"
   },
   {
    "duration": 17,
    "start_time": "2021-11-11T18:38:50.100Z"
   },
   {
    "duration": 14,
    "start_time": "2021-11-11T18:46:24.815Z"
   },
   {
    "duration": 678,
    "start_time": "2021-11-11T18:46:52.755Z"
   },
   {
    "duration": 15,
    "start_time": "2021-11-11T18:47:16.609Z"
   },
   {
    "duration": 98,
    "start_time": "2021-11-11T18:47:39.996Z"
   },
   {
    "duration": 376,
    "start_time": "2021-11-11T18:47:47.210Z"
   },
   {
    "duration": 15,
    "start_time": "2021-11-11T18:48:55.790Z"
   },
   {
    "duration": 16,
    "start_time": "2021-11-11T18:49:19.397Z"
   },
   {
    "duration": 17,
    "start_time": "2021-11-11T18:49:32.465Z"
   },
   {
    "duration": 8,
    "start_time": "2021-11-11T18:50:09.695Z"
   },
   {
    "duration": 10,
    "start_time": "2021-11-11T18:51:12.838Z"
   },
   {
    "duration": 8,
    "start_time": "2021-11-11T18:51:24.838Z"
   },
   {
    "duration": 1684,
    "start_time": "2021-11-12T14:07:46.741Z"
   },
   {
    "duration": 823,
    "start_time": "2021-11-12T14:07:48.427Z"
   },
   {
    "duration": 37,
    "start_time": "2021-11-12T14:07:49.253Z"
   },
   {
    "duration": 43,
    "start_time": "2021-11-12T14:07:49.293Z"
   },
   {
    "duration": 31,
    "start_time": "2021-11-12T14:07:49.339Z"
   },
   {
    "duration": 31,
    "start_time": "2021-11-12T14:07:49.372Z"
   },
   {
    "duration": 7,
    "start_time": "2021-11-12T14:07:49.406Z"
   },
   {
    "duration": 55,
    "start_time": "2021-11-12T14:07:49.417Z"
   },
   {
    "duration": 45,
    "start_time": "2021-11-12T14:07:49.476Z"
   },
   {
    "duration": 30,
    "start_time": "2021-11-12T14:07:49.524Z"
   },
   {
    "duration": 97,
    "start_time": "2021-11-12T14:07:49.557Z"
   },
   {
    "duration": 118,
    "start_time": "2021-11-12T14:07:49.657Z"
   },
   {
    "duration": 93,
    "start_time": "2021-11-12T14:07:49.777Z"
   },
   {
    "duration": 61,
    "start_time": "2021-11-12T14:07:49.873Z"
   },
   {
    "duration": 5,
    "start_time": "2021-11-12T14:07:49.937Z"
   },
   {
    "duration": 22,
    "start_time": "2021-11-12T14:07:49.968Z"
   },
   {
    "duration": 76,
    "start_time": "2021-11-12T14:07:49.992Z"
   },
   {
    "duration": 13,
    "start_time": "2021-11-12T14:07:50.071Z"
   },
   {
    "duration": 16,
    "start_time": "2021-11-12T14:07:50.087Z"
   },
   {
    "duration": 6,
    "start_time": "2021-11-12T14:07:50.106Z"
   },
   {
    "duration": 57,
    "start_time": "2021-11-12T14:07:50.114Z"
   },
   {
    "duration": 20,
    "start_time": "2021-11-12T14:07:50.173Z"
   },
   {
    "duration": 19,
    "start_time": "2021-11-12T14:07:50.198Z"
   },
   {
    "duration": 49,
    "start_time": "2021-11-12T14:07:50.219Z"
   },
   {
    "duration": 22,
    "start_time": "2021-11-12T14:07:50.270Z"
   },
   {
    "duration": 44,
    "start_time": "2021-11-12T14:07:50.294Z"
   },
   {
    "duration": 12,
    "start_time": "2021-11-12T14:07:50.340Z"
   },
   {
    "duration": 36,
    "start_time": "2021-11-12T14:07:50.354Z"
   },
   {
    "duration": 26,
    "start_time": "2021-11-12T14:07:50.392Z"
   },
   {
    "duration": 6,
    "start_time": "2021-11-12T14:07:50.420Z"
   },
   {
    "duration": 60,
    "start_time": "2021-11-12T14:07:50.428Z"
   },
   {
    "duration": 16,
    "start_time": "2021-11-12T14:07:50.490Z"
   },
   {
    "duration": 22,
    "start_time": "2021-11-12T14:07:50.508Z"
   },
   {
    "duration": 47,
    "start_time": "2021-11-12T14:07:50.532Z"
   },
   {
    "duration": 13,
    "start_time": "2021-11-12T14:07:50.581Z"
   },
   {
    "duration": 10,
    "start_time": "2021-11-12T14:07:50.596Z"
   },
   {
    "duration": 18,
    "start_time": "2021-11-12T14:07:50.608Z"
   },
   {
    "duration": 7,
    "start_time": "2021-11-12T14:07:50.628Z"
   },
   {
    "duration": 4,
    "start_time": "2021-11-12T14:18:36.657Z"
   },
   {
    "duration": 21,
    "start_time": "2021-11-12T14:18:49.377Z"
   },
   {
    "duration": 59,
    "start_time": "2021-11-12T14:18:59.092Z"
   },
   {
    "duration": 725,
    "start_time": "2021-11-12T14:19:07.382Z"
   },
   {
    "duration": 190,
    "start_time": "2021-11-12T14:19:08.110Z"
   },
   {
    "duration": 26,
    "start_time": "2021-11-12T14:19:08.307Z"
   },
   {
    "duration": 59,
    "start_time": "2021-11-12T14:19:08.336Z"
   },
   {
    "duration": 5,
    "start_time": "2021-11-12T14:19:08.397Z"
   },
   {
    "duration": 26,
    "start_time": "2021-11-12T14:19:08.405Z"
   },
   {
    "duration": 6,
    "start_time": "2021-11-12T14:19:08.435Z"
   },
   {
    "duration": 34,
    "start_time": "2021-11-12T14:19:08.467Z"
   },
   {
    "duration": 23,
    "start_time": "2021-11-12T14:19:08.504Z"
   },
   {
    "duration": 54,
    "start_time": "2021-11-12T14:19:08.529Z"
   },
   {
    "duration": 104,
    "start_time": "2021-11-12T14:19:08.586Z"
   },
   {
    "duration": 112,
    "start_time": "2021-11-12T14:19:08.693Z"
   },
   {
    "duration": 85,
    "start_time": "2021-11-12T14:19:08.808Z"
   },
   {
    "duration": 75,
    "start_time": "2021-11-12T14:19:08.896Z"
   },
   {
    "duration": 4,
    "start_time": "2021-11-12T14:19:08.974Z"
   },
   {
    "duration": 26,
    "start_time": "2021-11-12T14:19:08.980Z"
   },
   {
    "duration": 78,
    "start_time": "2021-11-12T14:19:09.009Z"
   },
   {
    "duration": 14,
    "start_time": "2021-11-12T14:19:09.089Z"
   },
   {
    "duration": 14,
    "start_time": "2021-11-12T14:19:09.105Z"
   },
   {
    "duration": 4,
    "start_time": "2021-11-12T14:19:09.122Z"
   },
   {
    "duration": 58,
    "start_time": "2021-11-12T14:19:09.129Z"
   },
   {
    "duration": 18,
    "start_time": "2021-11-12T14:19:09.192Z"
   },
   {
    "duration": 19,
    "start_time": "2021-11-12T14:19:09.213Z"
   },
   {
    "duration": 49,
    "start_time": "2021-11-12T14:19:09.234Z"
   },
   {
    "duration": 24,
    "start_time": "2021-11-12T14:19:09.286Z"
   },
   {
    "duration": 62,
    "start_time": "2021-11-12T14:19:09.313Z"
   },
   {
    "duration": 13,
    "start_time": "2021-11-12T14:19:09.377Z"
   },
   {
    "duration": 32,
    "start_time": "2021-11-12T14:19:09.392Z"
   },
   {
    "duration": 54,
    "start_time": "2021-11-12T14:19:09.427Z"
   },
   {
    "duration": 5,
    "start_time": "2021-11-12T14:19:09.484Z"
   },
   {
    "duration": 30,
    "start_time": "2021-11-12T14:19:09.491Z"
   },
   {
    "duration": 45,
    "start_time": "2021-11-12T14:19:09.523Z"
   },
   {
    "duration": 22,
    "start_time": "2021-11-12T14:19:09.571Z"
   },
   {
    "duration": 15,
    "start_time": "2021-11-12T14:19:09.596Z"
   },
   {
    "duration": 14,
    "start_time": "2021-11-12T14:19:09.614Z"
   },
   {
    "duration": 39,
    "start_time": "2021-11-12T14:19:09.630Z"
   },
   {
    "duration": 10,
    "start_time": "2021-11-12T14:19:09.672Z"
   },
   {
    "duration": 8,
    "start_time": "2021-11-12T14:19:09.685Z"
   },
   {
    "duration": 13,
    "start_time": "2021-11-12T14:22:50.696Z"
   },
   {
    "duration": 756,
    "start_time": "2021-11-12T14:29:38.739Z"
   },
   {
    "duration": 193,
    "start_time": "2021-11-12T14:29:39.498Z"
   },
   {
    "duration": 24,
    "start_time": "2021-11-12T14:29:39.694Z"
   },
   {
    "duration": 53,
    "start_time": "2021-11-12T14:29:39.721Z"
   },
   {
    "duration": 6,
    "start_time": "2021-11-12T14:29:39.777Z"
   },
   {
    "duration": 30,
    "start_time": "2021-11-12T14:29:39.786Z"
   },
   {
    "duration": 5,
    "start_time": "2021-11-12T14:29:39.818Z"
   },
   {
    "duration": 71,
    "start_time": "2021-11-12T14:29:39.826Z"
   },
   {
    "duration": 23,
    "start_time": "2021-11-12T14:29:39.902Z"
   },
   {
    "duration": 46,
    "start_time": "2021-11-12T14:29:39.928Z"
   },
   {
    "duration": 103,
    "start_time": "2021-11-12T14:29:39.976Z"
   },
   {
    "duration": 116,
    "start_time": "2021-11-12T14:29:40.081Z"
   },
   {
    "duration": 88,
    "start_time": "2021-11-12T14:29:40.199Z"
   },
   {
    "duration": 58,
    "start_time": "2021-11-12T14:29:40.289Z"
   },
   {
    "duration": 4,
    "start_time": "2021-11-12T14:29:40.366Z"
   },
   {
    "duration": 26,
    "start_time": "2021-11-12T14:29:40.373Z"
   },
   {
    "duration": 75,
    "start_time": "2021-11-12T14:29:40.402Z"
   },
   {
    "duration": 16,
    "start_time": "2021-11-12T14:29:40.480Z"
   },
   {
    "duration": 16,
    "start_time": "2021-11-12T14:29:40.499Z"
   },
   {
    "duration": 6,
    "start_time": "2021-11-12T14:29:40.518Z"
   },
   {
    "duration": 64,
    "start_time": "2021-11-12T14:29:40.527Z"
   },
   {
    "duration": 20,
    "start_time": "2021-11-12T14:29:40.593Z"
   },
   {
    "duration": 52,
    "start_time": "2021-11-12T14:29:40.616Z"
   },
   {
    "duration": 19,
    "start_time": "2021-11-12T14:29:40.670Z"
   },
   {
    "duration": 21,
    "start_time": "2021-11-12T14:29:40.691Z"
   },
   {
    "duration": 19,
    "start_time": "2021-11-12T14:29:40.714Z"
   },
   {
    "duration": 13,
    "start_time": "2021-11-12T14:29:40.768Z"
   },
   {
    "duration": 29,
    "start_time": "2021-11-12T14:29:40.783Z"
   },
   {
    "duration": 57,
    "start_time": "2021-11-12T14:29:40.814Z"
   },
   {
    "duration": 5,
    "start_time": "2021-11-12T14:29:40.873Z"
   },
   {
    "duration": 31,
    "start_time": "2021-11-12T14:29:40.880Z"
   },
   {
    "duration": 17,
    "start_time": "2021-11-12T14:29:40.913Z"
   },
   {
    "duration": 50,
    "start_time": "2021-11-12T14:29:40.932Z"
   },
   {
    "duration": 16,
    "start_time": "2021-11-12T14:29:40.984Z"
   },
   {
    "duration": 15,
    "start_time": "2021-11-12T14:29:41.003Z"
   },
   {
    "duration": 9,
    "start_time": "2021-11-12T14:29:41.021Z"
   },
   {
    "duration": 8,
    "start_time": "2021-11-12T14:29:41.068Z"
   },
   {
    "duration": 6,
    "start_time": "2021-11-12T14:29:41.079Z"
   },
   {
    "duration": 543,
    "start_time": "2021-11-12T21:23:18.061Z"
   },
   {
    "duration": 130,
    "start_time": "2021-11-12T21:23:18.605Z"
   },
   {
    "duration": 15,
    "start_time": "2021-11-12T21:23:18.738Z"
   },
   {
    "duration": 24,
    "start_time": "2021-11-12T21:23:18.756Z"
   },
   {
    "duration": 4,
    "start_time": "2021-11-12T21:23:18.782Z"
   },
   {
    "duration": 35,
    "start_time": "2021-11-12T21:23:18.788Z"
   },
   {
    "duration": 11,
    "start_time": "2021-11-12T21:23:18.825Z"
   },
   {
    "duration": 26,
    "start_time": "2021-11-12T21:23:18.838Z"
   },
   {
    "duration": 15,
    "start_time": "2021-11-12T21:23:18.868Z"
   },
   {
    "duration": 38,
    "start_time": "2021-11-12T21:23:18.885Z"
   },
   {
    "duration": 54,
    "start_time": "2021-11-12T21:23:18.924Z"
   },
   {
    "duration": 80,
    "start_time": "2021-11-12T21:23:18.980Z"
   },
   {
    "duration": 56,
    "start_time": "2021-11-12T21:23:19.062Z"
   },
   {
    "duration": 37,
    "start_time": "2021-11-12T21:23:19.120Z"
   },
   {
    "duration": 3,
    "start_time": "2021-11-12T21:23:19.158Z"
   },
   {
    "duration": 15,
    "start_time": "2021-11-12T21:23:19.163Z"
   },
   {
    "duration": 53,
    "start_time": "2021-11-12T21:23:19.180Z"
   },
   {
    "duration": 9,
    "start_time": "2021-11-12T21:23:19.235Z"
   },
   {
    "duration": 8,
    "start_time": "2021-11-12T21:23:19.246Z"
   },
   {
    "duration": 3,
    "start_time": "2021-11-12T21:23:19.256Z"
   },
   {
    "duration": 19,
    "start_time": "2021-11-12T21:23:19.261Z"
   },
   {
    "duration": 13,
    "start_time": "2021-11-12T21:23:19.306Z"
   },
   {
    "duration": 13,
    "start_time": "2021-11-12T21:23:19.321Z"
   },
   {
    "duration": 12,
    "start_time": "2021-11-12T21:23:19.336Z"
   },
   {
    "duration": 14,
    "start_time": "2021-11-12T21:23:19.349Z"
   },
   {
    "duration": 42,
    "start_time": "2021-11-12T21:23:19.365Z"
   },
   {
    "duration": 7,
    "start_time": "2021-11-12T21:23:19.410Z"
   },
   {
    "duration": 20,
    "start_time": "2021-11-12T21:23:19.419Z"
   },
   {
    "duration": 15,
    "start_time": "2021-11-12T21:23:19.440Z"
   },
   {
    "duration": 3,
    "start_time": "2021-11-12T21:23:19.457Z"
   },
   {
    "duration": 25,
    "start_time": "2021-11-12T21:23:19.461Z"
   },
   {
    "duration": 28,
    "start_time": "2021-11-12T21:23:19.487Z"
   },
   {
    "duration": 15,
    "start_time": "2021-11-12T21:23:19.516Z"
   },
   {
    "duration": 11,
    "start_time": "2021-11-12T21:23:19.532Z"
   },
   {
    "duration": 9,
    "start_time": "2021-11-12T21:23:19.544Z"
   },
   {
    "duration": 4,
    "start_time": "2021-11-12T21:23:19.554Z"
   },
   {
    "duration": 11,
    "start_time": "2021-11-12T21:23:19.560Z"
   },
   {
    "duration": 35,
    "start_time": "2021-11-12T21:23:19.572Z"
   },
   {
    "duration": 13,
    "start_time": "2021-11-12T21:25:12.398Z"
   },
   {
    "duration": 7,
    "start_time": "2021-11-12T21:26:17.529Z"
   },
   {
    "duration": 712,
    "start_time": "2021-11-13T15:02:52.089Z"
   },
   {
    "duration": 134,
    "start_time": "2021-11-13T15:02:52.803Z"
   },
   {
    "duration": 17,
    "start_time": "2021-11-13T15:02:52.939Z"
   },
   {
    "duration": 24,
    "start_time": "2021-11-13T15:02:52.958Z"
   },
   {
    "duration": 5,
    "start_time": "2021-11-13T15:02:52.984Z"
   },
   {
    "duration": 23,
    "start_time": "2021-11-13T15:02:52.990Z"
   },
   {
    "duration": 4,
    "start_time": "2021-11-13T15:02:53.015Z"
   },
   {
    "duration": 22,
    "start_time": "2021-11-13T15:02:53.046Z"
   },
   {
    "duration": 18,
    "start_time": "2021-11-13T15:02:53.070Z"
   },
   {
    "duration": 29,
    "start_time": "2021-11-13T15:02:53.090Z"
   },
   {
    "duration": 70,
    "start_time": "2021-11-13T15:02:53.121Z"
   },
   {
    "duration": 77,
    "start_time": "2021-11-13T15:02:53.193Z"
   },
   {
    "duration": 50,
    "start_time": "2021-11-13T15:02:53.271Z"
   },
   {
    "duration": 49,
    "start_time": "2021-11-13T15:02:53.322Z"
   },
   {
    "duration": 3,
    "start_time": "2021-11-13T15:02:53.372Z"
   },
   {
    "duration": 18,
    "start_time": "2021-11-13T15:02:53.377Z"
   },
   {
    "duration": 56,
    "start_time": "2021-11-13T15:02:53.397Z"
   },
   {
    "duration": 15,
    "start_time": "2021-11-13T15:02:53.455Z"
   },
   {
    "duration": 11,
    "start_time": "2021-11-13T15:02:53.472Z"
   },
   {
    "duration": 14,
    "start_time": "2021-11-13T15:02:53.485Z"
   },
   {
    "duration": 3,
    "start_time": "2021-11-13T15:02:53.501Z"
   },
   {
    "duration": 44,
    "start_time": "2021-11-13T15:02:53.506Z"
   },
   {
    "duration": 14,
    "start_time": "2021-11-13T15:02:53.553Z"
   },
   {
    "duration": 16,
    "start_time": "2021-11-13T15:02:53.569Z"
   },
   {
    "duration": 15,
    "start_time": "2021-11-13T15:02:53.587Z"
   },
   {
    "duration": 47,
    "start_time": "2021-11-13T15:02:53.604Z"
   },
   {
    "duration": 15,
    "start_time": "2021-11-13T15:02:53.652Z"
   },
   {
    "duration": 11,
    "start_time": "2021-11-13T15:02:53.669Z"
   },
   {
    "duration": 20,
    "start_time": "2021-11-13T15:02:53.683Z"
   },
   {
    "duration": 49,
    "start_time": "2021-11-13T15:02:53.704Z"
   },
   {
    "duration": 4,
    "start_time": "2021-11-13T15:02:53.755Z"
   },
   {
    "duration": 26,
    "start_time": "2021-11-13T15:02:53.760Z"
   },
   {
    "duration": 13,
    "start_time": "2021-11-13T15:02:53.787Z"
   },
   {
    "duration": 16,
    "start_time": "2021-11-13T15:02:53.802Z"
   },
   {
    "duration": 13,
    "start_time": "2021-11-13T15:02:53.844Z"
   },
   {
    "duration": 10,
    "start_time": "2021-11-13T15:02:53.858Z"
   },
   {
    "duration": 4,
    "start_time": "2021-11-13T15:02:53.870Z"
   },
   {
    "duration": 8,
    "start_time": "2021-11-13T15:02:53.876Z"
   },
   {
    "duration": 18,
    "start_time": "2021-11-13T15:02:53.886Z"
   },
   {
    "duration": 16,
    "start_time": "2021-11-13T15:02:53.905Z"
   },
   {
    "duration": 3,
    "start_time": "2021-11-13T15:03:16.046Z"
   },
   {
    "duration": 9,
    "start_time": "2021-11-13T15:03:20.866Z"
   },
   {
    "duration": 40,
    "start_time": "2021-11-13T15:03:27.586Z"
   },
   {
    "duration": 19,
    "start_time": "2021-11-13T15:04:35.856Z"
   },
   {
    "duration": 90,
    "start_time": "2021-11-13T15:07:37.805Z"
   },
   {
    "duration": -2167,
    "start_time": "2021-11-13T15:11:17.289Z"
   },
   {
    "duration": 92,
    "start_time": "2021-11-13T15:11:18.632Z"
   },
   {
    "duration": 98,
    "start_time": "2021-11-13T15:12:01.865Z"
   },
   {
    "duration": 139,
    "start_time": "2021-11-13T15:12:08.044Z"
   },
   {
    "duration": 90,
    "start_time": "2021-11-13T15:12:48.756Z"
   },
   {
    "duration": 2,
    "start_time": "2021-11-13T15:14:59.877Z"
   },
   {
    "duration": 159,
    "start_time": "2021-11-13T15:14:59.895Z"
   },
   {
    "duration": 11,
    "start_time": "2021-11-13T15:15:00.057Z"
   },
   {
    "duration": 31,
    "start_time": "2021-11-13T15:15:00.070Z"
   },
   {
    "duration": 6,
    "start_time": "2021-11-13T15:15:00.104Z"
   },
   {
    "duration": 51,
    "start_time": "2021-11-13T15:15:00.111Z"
   },
   {
    "duration": 4,
    "start_time": "2021-11-13T15:15:00.164Z"
   },
   {
    "duration": 35,
    "start_time": "2021-11-13T15:15:00.169Z"
   },
   {
    "duration": 16,
    "start_time": "2021-11-13T15:15:00.207Z"
   },
   {
    "duration": 33,
    "start_time": "2021-11-13T15:15:00.225Z"
   },
   {
    "duration": 54,
    "start_time": "2021-11-13T15:15:00.260Z"
   },
   {
    "duration": 78,
    "start_time": "2021-11-13T15:15:00.315Z"
   },
   {
    "duration": 60,
    "start_time": "2021-11-13T15:15:00.395Z"
   },
   {
    "duration": 40,
    "start_time": "2021-11-13T15:15:00.457Z"
   },
   {
    "duration": 13,
    "start_time": "2021-11-13T15:15:00.499Z"
   },
   {
    "duration": 122,
    "start_time": "2021-11-13T15:15:00.513Z"
   },
   {
    "duration": -2398,
    "start_time": "2021-11-13T15:15:03.036Z"
   },
   {
    "duration": -2401,
    "start_time": "2021-11-13T15:15:03.040Z"
   },
   {
    "duration": -2410,
    "start_time": "2021-11-13T15:15:03.050Z"
   },
   {
    "duration": -2413,
    "start_time": "2021-11-13T15:15:03.054Z"
   },
   {
    "duration": -2415,
    "start_time": "2021-11-13T15:15:03.057Z"
   },
   {
    "duration": -2417,
    "start_time": "2021-11-13T15:15:03.060Z"
   },
   {
    "duration": -2419,
    "start_time": "2021-11-13T15:15:03.063Z"
   },
   {
    "duration": -2421,
    "start_time": "2021-11-13T15:15:03.066Z"
   },
   {
    "duration": -2423,
    "start_time": "2021-11-13T15:15:03.069Z"
   },
   {
    "duration": -2426,
    "start_time": "2021-11-13T15:15:03.073Z"
   },
   {
    "duration": -2427,
    "start_time": "2021-11-13T15:15:03.075Z"
   },
   {
    "duration": -2430,
    "start_time": "2021-11-13T15:15:03.079Z"
   },
   {
    "duration": -2438,
    "start_time": "2021-11-13T15:15:03.088Z"
   },
   {
    "duration": -2440,
    "start_time": "2021-11-13T15:15:03.091Z"
   },
   {
    "duration": -2442,
    "start_time": "2021-11-13T15:15:03.094Z"
   },
   {
    "duration": -2444,
    "start_time": "2021-11-13T15:15:03.097Z"
   },
   {
    "duration": -2446,
    "start_time": "2021-11-13T15:15:03.100Z"
   },
   {
    "duration": -2449,
    "start_time": "2021-11-13T15:15:03.104Z"
   },
   {
    "duration": -2451,
    "start_time": "2021-11-13T15:15:03.107Z"
   },
   {
    "duration": -2453,
    "start_time": "2021-11-13T15:15:03.110Z"
   },
   {
    "duration": -2455,
    "start_time": "2021-11-13T15:15:03.113Z"
   },
   {
    "duration": -2457,
    "start_time": "2021-11-13T15:15:03.116Z"
   },
   {
    "duration": -2459,
    "start_time": "2021-11-13T15:15:03.119Z"
   },
   {
    "duration": -2461,
    "start_time": "2021-11-13T15:15:03.122Z"
   },
   {
    "duration": -2463,
    "start_time": "2021-11-13T15:15:03.125Z"
   },
   {
    "duration": 86,
    "start_time": "2021-11-13T15:16:05.831Z"
   },
   {
    "duration": 92,
    "start_time": "2021-11-13T15:18:22.448Z"
   },
   {
    "duration": 88,
    "start_time": "2021-11-13T15:18:45.428Z"
   },
   {
    "duration": 87,
    "start_time": "2021-11-13T15:21:05.098Z"
   },
   {
    "duration": 721,
    "start_time": "2021-11-13T20:14:25.465Z"
   },
   {
    "duration": 184,
    "start_time": "2021-11-13T20:14:26.188Z"
   },
   {
    "duration": 25,
    "start_time": "2021-11-13T20:14:26.374Z"
   },
   {
    "duration": 47,
    "start_time": "2021-11-13T20:14:26.403Z"
   },
   {
    "duration": 11,
    "start_time": "2021-11-13T20:14:26.453Z"
   },
   {
    "duration": 42,
    "start_time": "2021-11-13T20:14:26.466Z"
   },
   {
    "duration": 16,
    "start_time": "2021-11-13T20:14:26.511Z"
   },
   {
    "duration": 40,
    "start_time": "2021-11-13T20:14:26.532Z"
   },
   {
    "duration": 34,
    "start_time": "2021-11-13T20:14:26.575Z"
   },
   {
    "duration": 37,
    "start_time": "2021-11-13T20:14:26.612Z"
   },
   {
    "duration": 103,
    "start_time": "2021-11-13T20:14:26.651Z"
   },
   {
    "duration": 119,
    "start_time": "2021-11-13T20:14:26.757Z"
   },
   {
    "duration": 94,
    "start_time": "2021-11-13T20:14:26.878Z"
   },
   {
    "duration": 57,
    "start_time": "2021-11-13T20:14:26.974Z"
   },
   {
    "duration": 4,
    "start_time": "2021-11-13T20:14:27.033Z"
   },
   {
    "duration": 30,
    "start_time": "2021-11-13T20:14:27.040Z"
   },
   {
    "duration": 59,
    "start_time": "2021-11-13T20:14:27.072Z"
   },
   {
    "duration": 14,
    "start_time": "2021-11-13T20:14:27.133Z"
   },
   {
    "duration": 12,
    "start_time": "2021-11-13T20:14:27.149Z"
   },
   {
    "duration": 19,
    "start_time": "2021-11-13T20:14:27.163Z"
   },
   {
    "duration": 5,
    "start_time": "2021-11-13T20:14:27.184Z"
   },
   {
    "duration": 35,
    "start_time": "2021-11-13T20:14:27.191Z"
   },
   {
    "duration": 18,
    "start_time": "2021-11-13T20:14:27.231Z"
   },
   {
    "duration": 18,
    "start_time": "2021-11-13T20:14:27.252Z"
   },
   {
    "duration": 19,
    "start_time": "2021-11-13T20:14:27.272Z"
   },
   {
    "duration": 31,
    "start_time": "2021-11-13T20:14:27.293Z"
   },
   {
    "duration": 19,
    "start_time": "2021-11-13T20:14:27.326Z"
   },
   {
    "duration": 12,
    "start_time": "2021-11-13T20:14:27.347Z"
   },
   {
    "duration": 34,
    "start_time": "2021-11-13T20:14:27.361Z"
   },
   {
    "duration": 30,
    "start_time": "2021-11-13T20:14:27.398Z"
   },
   {
    "duration": 5,
    "start_time": "2021-11-13T20:14:27.430Z"
   },
   {
    "duration": 43,
    "start_time": "2021-11-13T20:14:27.437Z"
   },
   {
    "duration": 16,
    "start_time": "2021-11-13T20:14:27.483Z"
   },
   {
    "duration": 21,
    "start_time": "2021-11-13T20:14:27.501Z"
   },
   {
    "duration": 18,
    "start_time": "2021-11-13T20:14:27.524Z"
   },
   {
    "duration": 17,
    "start_time": "2021-11-13T20:14:27.544Z"
   },
   {
    "duration": 14,
    "start_time": "2021-11-13T20:14:27.564Z"
   },
   {
    "duration": 26,
    "start_time": "2021-11-13T20:14:27.580Z"
   },
   {
    "duration": 23,
    "start_time": "2021-11-13T20:14:27.608Z"
   },
   {
    "duration": 16,
    "start_time": "2021-11-13T20:14:27.634Z"
   }
  ],
  "colab": {
   "collapsed_sections": [
    "E0vqbgi9ay0H",
    "VUC88oWjTJw2"
   ],
   "name": "yandex_music_project_2021.2.ipynb",
   "provenance": []
  },
  "kernelspec": {
   "display_name": "Python 3 (ipykernel)",
   "language": "python",
   "name": "python3"
  },
  "language_info": {
   "codemirror_mode": {
    "name": "ipython",
    "version": 3
   },
   "file_extension": ".py",
   "mimetype": "text/x-python",
   "name": "python",
   "nbconvert_exporter": "python",
   "pygments_lexer": "ipython3",
   "version": "3.9.5"
  },
  "toc": {
   "base_numbering": 1,
   "nav_menu": {},
   "number_sections": true,
   "sideBar": true,
   "skip_h1_title": true,
   "title_cell": "Table of Contents",
   "title_sidebar": "Contents",
   "toc_cell": false,
   "toc_position": {
    "height": "calc(100% - 180px)",
    "left": "10px",
    "top": "150px",
    "width": "212px"
   },
   "toc_section_display": true,
   "toc_window_display": true
  }
 },
 "nbformat": 4,
 "nbformat_minor": 1
}
